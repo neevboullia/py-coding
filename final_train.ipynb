{
 "cells": [
  {
   "cell_type": "markdown",
   "metadata": {},
   "source": [
    "載入套件"
   ]
  },
  {
   "cell_type": "code",
   "execution_count": 405,
   "metadata": {},
   "outputs": [
    {
     "name": "stdout",
     "output_type": "stream",
     "text": [
      "env: KERAS_BACKEND=tensorflow\n"
     ]
    }
   ],
   "source": [
    "%matplotlib inline\n",
    "#確保一致性\n",
    "%env KERAS_BACKEND = tensorflow \n",
    "import numpy as np\n",
    "import pandas as pd\n",
    "import matplotlib.pyplot as plt\n",
    "from keras.datasets import mnist    #資料\n",
    "from keras.utils import np_utils    #轉為分類問題\n",
    "from keras.utils import to_categorical \n",
    "from keras.models import Sequential #神經網路相關套件  標準\n",
    "from keras.layers import Dense, Activation\n",
    "from keras.optimizers import SGD, Adam, RMSprop    #隨機調整\n",
    "from keras.models import Model\n",
    "from keras.layers import Input\n",
    "from keras.layers import concatenate, add\n",
    "from ipywidgets import interact_manual \n",
    "from sklearn.model_selection import train_test_split#分割資料集"
   ]
  },
  {
   "cell_type": "code",
   "execution_count": 406,
   "metadata": {},
   "outputs": [],
   "source": [
    "#df[''] = [e for e in df['']]"
   ]
  },
  {
   "cell_type": "markdown",
   "metadata": {},
   "source": [
    "#### 原始資料"
   ]
  },
  {
   "cell_type": "code",
   "execution_count": 410,
   "metadata": {},
   "outputs": [],
   "source": [
    "mrt1 = pd.read_csv('C:/Users/user/Desktop/python/final/mrt1.csv',engine = \"python\")\n",
    "mrt2 = pd.read_csv('C:/Users/user/Desktop/python/final/mrt2.csv',engine = \"python\")\n",
    "mrt3 = pd.read_csv('C:/Users/user/Desktop/python/final/mrt3.csv',engine = \"python\")\n",
    "mrt = pd.concat([mrt1,mrt2,mrt3],axis=0)  #串接dataframe"
   ]
  },
  {
   "cell_type": "code",
   "execution_count": 411,
   "metadata": {},
   "outputs": [
    {
     "data": {
      "text/html": [
       "<div>\n",
       "<style scoped>\n",
       "    .dataframe tbody tr th:only-of-type {\n",
       "        vertical-align: middle;\n",
       "    }\n",
       "\n",
       "    .dataframe tbody tr th {\n",
       "        vertical-align: top;\n",
       "    }\n",
       "\n",
       "    .dataframe thead th {\n",
       "        text-align: right;\n",
       "    }\n",
       "</style>\n",
       "<table border=\"1\" class=\"dataframe\">\n",
       "  <thead>\n",
       "    <tr style=\"text-align: right;\">\n",
       "      <th></th>\n",
       "      <th>卡號</th>\n",
       "      <th>卡種</th>\n",
       "      <th>進站時間</th>\n",
       "      <th>出站時間</th>\n",
       "      <th>進站站名</th>\n",
       "      <th>出站站名</th>\n",
       "    </tr>\n",
       "  </thead>\n",
       "  <tbody>\n",
       "    <tr>\n",
       "      <th>0</th>\n",
       "      <td>B1EF20523AF10C3389056806C93DD5BE</td>\n",
       "      <td>1</td>\n",
       "      <td>2018/3/15 23:23</td>\n",
       "      <td>2018/3/16 00:00</td>\n",
       "      <td>行天宮</td>\n",
       "      <td>海山</td>\n",
       "    </tr>\n",
       "    <tr>\n",
       "      <th>1</th>\n",
       "      <td>B0BCA6332F559DA7F3BAD948933386B9</td>\n",
       "      <td>1</td>\n",
       "      <td>2018/3/15 23:08</td>\n",
       "      <td>2018/3/16 00:00</td>\n",
       "      <td>西湖</td>\n",
       "      <td>頭前庄</td>\n",
       "    </tr>\n",
       "    <tr>\n",
       "      <th>2</th>\n",
       "      <td>2E5013A0819F671A73979766C9583BAD</td>\n",
       "      <td>1</td>\n",
       "      <td>2018/3/15 23:30</td>\n",
       "      <td>2018/3/16 00:00</td>\n",
       "      <td>士林</td>\n",
       "      <td>西門</td>\n",
       "    </tr>\n",
       "    <tr>\n",
       "      <th>3</th>\n",
       "      <td>7215C2AC14E7AFB9885D30353824D5F1</td>\n",
       "      <td>1</td>\n",
       "      <td>2018/3/15 23:41</td>\n",
       "      <td>2018/3/16 00:00</td>\n",
       "      <td>西門</td>\n",
       "      <td>新埔</td>\n",
       "    </tr>\n",
       "    <tr>\n",
       "      <th>4</th>\n",
       "      <td>8004EB8D24B387203C0CD0171B4868F5</td>\n",
       "      <td>6</td>\n",
       "      <td>2018/3/15 23:23</td>\n",
       "      <td>2018/3/16 00:00</td>\n",
       "      <td>士林</td>\n",
       "      <td>新埔</td>\n",
       "    </tr>\n",
       "  </tbody>\n",
       "</table>\n",
       "</div>"
      ],
      "text/plain": [
       "                                 卡號  卡種             進站時間             出站時間  \\\n",
       "0  B1EF20523AF10C3389056806C93DD5BE   1  2018/3/15 23:23  2018/3/16 00:00   \n",
       "1  B0BCA6332F559DA7F3BAD948933386B9   1  2018/3/15 23:08  2018/3/16 00:00   \n",
       "2  2E5013A0819F671A73979766C9583BAD   1  2018/3/15 23:30  2018/3/16 00:00   \n",
       "3  7215C2AC14E7AFB9885D30353824D5F1   1  2018/3/15 23:41  2018/3/16 00:00   \n",
       "4  8004EB8D24B387203C0CD0171B4868F5   6  2018/3/15 23:23  2018/3/16 00:00   \n",
       "\n",
       "  進站站名 出站站名  \n",
       "0  行天宮   海山  \n",
       "1   西湖  頭前庄  \n",
       "2   士林   西門  \n",
       "3   西門   新埔  \n",
       "4   士林   新埔  "
      ]
     },
     "execution_count": 411,
     "metadata": {},
     "output_type": "execute_result"
    }
   ],
   "source": [
    "mrt.head()"
   ]
  },
  {
   "attachments": {},
   "cell_type": "markdown",
   "metadata": {},
   "source": [
    "#### 合理進出篩選\n",
    "dfq 已篩選掉 怪異地點 : 第一次出站站點周圍1公里無學校\n",
    "\n",
    "(輔大、唭哩岸、大湖公園、竹圍、頂埔)"
   ]
  },
  {
   "cell_type": "code",
   "execution_count": 409,
   "metadata": {},
   "outputs": [
    {
     "data": {
      "text/html": [
       "<div>\n",
       "<style scoped>\n",
       "    .dataframe tbody tr th:only-of-type {\n",
       "        vertical-align: middle;\n",
       "    }\n",
       "\n",
       "    .dataframe tbody tr th {\n",
       "        vertical-align: top;\n",
       "    }\n",
       "\n",
       "    .dataframe thead th {\n",
       "        text-align: right;\n",
       "    }\n",
       "</style>\n",
       "<table border=\"1\" class=\"dataframe\">\n",
       "  <thead>\n",
       "    <tr style=\"text-align: right;\">\n",
       "      <th></th>\n",
       "      <th>卡號</th>\n",
       "      <th>卡種</th>\n",
       "      <th>進站時間</th>\n",
       "      <th>出站時間</th>\n",
       "      <th>進站站名</th>\n",
       "      <th>出站站名</th>\n",
       "    </tr>\n",
       "  </thead>\n",
       "  <tbody>\n",
       "    <tr>\n",
       "      <th>0</th>\n",
       "      <td>00001828EC89F17789056806C93DD5BE</td>\n",
       "      <td>1</td>\n",
       "      <td>2018/3/15 08:35</td>\n",
       "      <td>2018/3/15 08:47</td>\n",
       "      <td>景安</td>\n",
       "      <td>古亭</td>\n",
       "    </tr>\n",
       "    <tr>\n",
       "      <th>1</th>\n",
       "      <td>00001828EC89F17789056806C93DD5BE</td>\n",
       "      <td>1</td>\n",
       "      <td>2018/3/15 18:21</td>\n",
       "      <td>2018/3/15 18:40</td>\n",
       "      <td>古亭</td>\n",
       "      <td>景安</td>\n",
       "    </tr>\n",
       "    <tr>\n",
       "      <th>2</th>\n",
       "      <td>00003BB606A8D4471CE3A1303DC0F97F</td>\n",
       "      <td>1</td>\n",
       "      <td>2018/3/15 06:20</td>\n",
       "      <td>2018/3/15 06:31</td>\n",
       "      <td>唭哩岸</td>\n",
       "      <td>北投</td>\n",
       "    </tr>\n",
       "    <tr>\n",
       "      <th>3</th>\n",
       "      <td>00003BB606A8D4471CE3A1303DC0F97F</td>\n",
       "      <td>1</td>\n",
       "      <td>2018/3/15 22:07</td>\n",
       "      <td>2018/3/15 22:14</td>\n",
       "      <td>北投</td>\n",
       "      <td>唭哩岸</td>\n",
       "    </tr>\n",
       "    <tr>\n",
       "      <th>4</th>\n",
       "      <td>0000A959F2E22684577055C745EF9729</td>\n",
       "      <td>1</td>\n",
       "      <td>2018/3/15 18:21</td>\n",
       "      <td>2018/3/15 18:38</td>\n",
       "      <td>台北車站</td>\n",
       "      <td>信義安和</td>\n",
       "    </tr>\n",
       "  </tbody>\n",
       "</table>\n",
       "</div>"
      ],
      "text/plain": [
       "                                 卡號  卡種             進站時間             出站時間  \\\n",
       "0  00001828EC89F17789056806C93DD5BE   1  2018/3/15 08:35  2018/3/15 08:47   \n",
       "1  00001828EC89F17789056806C93DD5BE   1  2018/3/15 18:21  2018/3/15 18:40   \n",
       "2  00003BB606A8D4471CE3A1303DC0F97F   1  2018/3/15 06:20  2018/3/15 06:31   \n",
       "3  00003BB606A8D4471CE3A1303DC0F97F   1  2018/3/15 22:07  2018/3/15 22:14   \n",
       "4  0000A959F2E22684577055C745EF9729   1  2018/3/15 18:21  2018/3/15 18:38   \n",
       "\n",
       "   進站站名  出站站名  \n",
       "0    景安    古亭  \n",
       "1    古亭    景安  \n",
       "2   唭哩岸    北投  \n",
       "3    北投   唭哩岸  \n",
       "4  台北車站  信義安和  "
      ]
     },
     "execution_count": 409,
     "metadata": {},
     "output_type": "execute_result"
    }
   ],
   "source": [
    "dfq = pd.read_csv('C:/Users/user/Desktop/python/final/df_1_del.csv',engine = \"python\",encoding ='utf-8')\n",
    "dfq = dfq.drop(['Unnamed: 0'],axis = 1) \n",
    "card_id = pd.unique(dfq['卡號'])  #取出卡號\n",
    "dfq.head()"
   ]
  },
  {
   "cell_type": "markdown",
   "metadata": {},
   "source": [
    "由於檔案過大，將資料切分後再進行運算"
   ]
  },
  {
   "cell_type": "markdown",
   "metadata": {},
   "source": [
    "篩選合理進出 :\n",
    "\n",
    "第一次進站 = 最後一次出站       \n",
    "\n",
    "第一次出站 = 第二次進站"
   ]
  },
  {
   "cell_type": "code",
   "execution_count": 279,
   "metadata": {},
   "outputs": [],
   "source": [
    "l = []\n",
    "for j in range(0,1000):\n",
    "    card_id2 = card_id[range((j*446),(j+1)*446)]\n",
    "    dfq2 = dfq.loc[ dfq['卡號'].isin(card_id2)]   #將 dataframe 切成1000份執行\n",
    "    for i in card_id2:\n",
    "        a = dfq2[dfq2.卡號 == i]  #從unique叫出卡號\n",
    "        l.append((a.iloc[0,4]==a.iloc[-1,5]) & (a.iloc[0,5]==a.iloc[1,4]) )\n",
    "                 #頭進站 == 尾出站          #第一次出站 == 第二次進站446601"
   ]
  },
  {
   "cell_type": "markdown",
   "metadata": {},
   "source": [
    "將餘數資料補回"
   ]
  },
  {
   "cell_type": "code",
   "execution_count": 282,
   "metadata": {},
   "outputs": [],
   "source": [
    "card_id3 = card_id[446000:446601]\n",
    "dfq3 = dfq.loc[ dfq['卡號'].isin(card_id3)]\n",
    "for i in card_id3:\n",
    "    a = dfq3[dfq3.卡號 == i]  #從unique叫出卡號\n",
    "    l.append((a.iloc[0,4]==a.iloc[-1,5]) & (a.iloc[0,5]==a.iloc[1,4]) )"
   ]
  },
  {
   "cell_type": "markdown",
   "metadata": {},
   "source": [
    "取出合理進出資料、輸出"
   ]
  },
  {
   "cell_type": "code",
   "execution_count": 295,
   "metadata": {},
   "outputs": [],
   "source": [
    "dfq4 = dfq.loc[dfq['卡號'].isin(card_id[l])]\n",
    "dfq5 = dfq.loc[dfq['卡號'].isin(card_id[np.logical_not(l)])] \n",
    "dfq4.to_csv('C:/Users/user/Desktop/合理進出.csv')\n",
    "dfq5.to_csv('C:/Users/user/Desktop/不合理3.csv')"
   ]
  },
  {
   "attachments": {},
   "cell_type": "markdown",
   "metadata": {},
   "source": [
    "#### 合理旅次篩選\n",
    "\n",
    "合理旅次時間 : 上下午皆有旅次"
   ]
  },
  {
   "cell_type": "code",
   "execution_count": 416,
   "metadata": {},
   "outputs": [],
   "source": [
    "dfr = card1 = pd.read_csv('C:/Users/user/Desktop/python/final/合理進出.csv',engine = \"python\",encoding ='utf-8')\n",
    "#dfr = dfr.drop(['Unnamed: 0','Unnamed: 0.1'],axis = 1) \n",
    "dfr = dfr.drop(['Unnamed: 0'],axis = 1) \n",
    "dfcard = pd.unique(dfr.卡號)"
   ]
  },
  {
   "cell_type": "code",
   "execution_count": 417,
   "metadata": {},
   "outputs": [
    {
     "data": {
      "text/html": [
       "<div>\n",
       "<style scoped>\n",
       "    .dataframe tbody tr th:only-of-type {\n",
       "        vertical-align: middle;\n",
       "    }\n",
       "\n",
       "    .dataframe tbody tr th {\n",
       "        vertical-align: top;\n",
       "    }\n",
       "\n",
       "    .dataframe thead th {\n",
       "        text-align: right;\n",
       "    }\n",
       "</style>\n",
       "<table border=\"1\" class=\"dataframe\">\n",
       "  <thead>\n",
       "    <tr style=\"text-align: right;\">\n",
       "      <th></th>\n",
       "      <th>卡號</th>\n",
       "      <th>卡種</th>\n",
       "      <th>進站時間</th>\n",
       "      <th>出站時間</th>\n",
       "      <th>進站站名</th>\n",
       "      <th>出站站名</th>\n",
       "    </tr>\n",
       "  </thead>\n",
       "  <tbody>\n",
       "    <tr>\n",
       "      <th>0</th>\n",
       "      <td>00001828EC89F17789056806C93DD5BE</td>\n",
       "      <td>1</td>\n",
       "      <td>2018/3/15 08:35</td>\n",
       "      <td>2018/3/15 08:47</td>\n",
       "      <td>景安</td>\n",
       "      <td>古亭</td>\n",
       "    </tr>\n",
       "    <tr>\n",
       "      <th>1</th>\n",
       "      <td>00001828EC89F17789056806C93DD5BE</td>\n",
       "      <td>1</td>\n",
       "      <td>2018/3/15 18:21</td>\n",
       "      <td>2018/3/15 18:40</td>\n",
       "      <td>古亭</td>\n",
       "      <td>景安</td>\n",
       "    </tr>\n",
       "    <tr>\n",
       "      <th>2</th>\n",
       "      <td>00003BB606A8D4471CE3A1303DC0F97F</td>\n",
       "      <td>1</td>\n",
       "      <td>2018/3/15 06:20</td>\n",
       "      <td>2018/3/15 06:31</td>\n",
       "      <td>唭哩岸</td>\n",
       "      <td>北投</td>\n",
       "    </tr>\n",
       "    <tr>\n",
       "      <th>3</th>\n",
       "      <td>00003BB606A8D4471CE3A1303DC0F97F</td>\n",
       "      <td>1</td>\n",
       "      <td>2018/3/15 22:07</td>\n",
       "      <td>2018/3/15 22:14</td>\n",
       "      <td>北投</td>\n",
       "      <td>唭哩岸</td>\n",
       "    </tr>\n",
       "    <tr>\n",
       "      <th>4</th>\n",
       "      <td>0000A959F2E22684577055C745EF9729</td>\n",
       "      <td>1</td>\n",
       "      <td>2018/3/15 18:21</td>\n",
       "      <td>2018/3/15 18:38</td>\n",
       "      <td>台北車站</td>\n",
       "      <td>信義安和</td>\n",
       "    </tr>\n",
       "  </tbody>\n",
       "</table>\n",
       "</div>"
      ],
      "text/plain": [
       "                                 卡號  卡種             進站時間             出站時間  \\\n",
       "0  00001828EC89F17789056806C93DD5BE   1  2018/3/15 08:35  2018/3/15 08:47   \n",
       "1  00001828EC89F17789056806C93DD5BE   1  2018/3/15 18:21  2018/3/15 18:40   \n",
       "2  00003BB606A8D4471CE3A1303DC0F97F   1  2018/3/15 06:20  2018/3/15 06:31   \n",
       "3  00003BB606A8D4471CE3A1303DC0F97F   1  2018/3/15 22:07  2018/3/15 22:14   \n",
       "4  0000A959F2E22684577055C745EF9729   1  2018/3/15 18:21  2018/3/15 18:38   \n",
       "\n",
       "   進站站名  出站站名  \n",
       "0    景安    古亭  \n",
       "1    古亭    景安  \n",
       "2   唭哩岸    北投  \n",
       "3    北投   唭哩岸  \n",
       "4  台北車站  信義安和  "
      ]
     },
     "execution_count": 417,
     "metadata": {},
     "output_type": "execute_result"
    }
   ],
   "source": [
    "dfr.head()"
   ]
  },
  {
   "cell_type": "markdown",
   "metadata": {},
   "source": [
    "將時間格式\n",
    "\n",
    "由  2018/3/15 08:35   轉為 08:35"
   ]
  },
  {
   "cell_type": "code",
   "execution_count": 47,
   "metadata": {},
   "outputs": [],
   "source": [
    "dfr['進站時間'] = [ i[10:15] for i in dfr['進站時間'] ]\n",
    "dfr['出站時間'] = [ i[10:15] for i in dfr['出站時間'] ]   #留下時間"
   ]
  },
  {
   "cell_type": "markdown",
   "metadata": {},
   "source": [
    "篩選\n",
    "\n",
    "第一次進站時間早於早上9點\n",
    "\n",
    "最後一次進站時間晚於下午3點半"
   ]
  },
  {
   "cell_type": "markdown",
   "metadata": {},
   "source": [
    "同樣將資料切分 分1000次跑"
   ]
  },
  {
   "cell_type": "code",
   "execution_count": 55,
   "metadata": {},
   "outputs": [],
   "source": [
    "l = []\n",
    "for j in range(0,1000):\n",
    "    dfcard2 = dfcard[range((j*284),(j+1)*284)]\n",
    "    dfr2 = dfr.loc[ dfr['卡號'].isin(dfcard2)]\n",
    "    for i in dfcard2:\n",
    "        a = dfr2[dfr2.卡號 == i]  #從unique叫出卡號\n",
    "        b = a.sort_values(\"進站時間\")\n",
    "        l.append((b.iloc[0,4] < '09:00') & (b.iloc[-1,4] > '15:30'))"
   ]
  },
  {
   "cell_type": "code",
   "execution_count": 58,
   "metadata": {},
   "outputs": [],
   "source": [
    "dfcard3 = dfcard[284000:284077]\n",
    "dfr3 = dfr.loc[ dfr['卡號'].isin(dfcard3)]\n",
    "for i in  dfcard3:\n",
    "    a = dfr3[dfr3.卡號 == i]  #從unique叫出卡號\n",
    "    b = a.sort_values(\"進站時間\")\n",
    "    l.append((b.iloc[0,4] < '09:00') & (b.iloc[-1,4] > '15:30'))"
   ]
  },
  {
   "cell_type": "code",
   "execution_count": 63,
   "metadata": {},
   "outputs": [],
   "source": [
    "dfr4 = dfr.loc[dfr['卡號'].isin(dfcard[l])]\n",
    "dfr5 = dfr.loc[dfr['卡號'].isin(dfcard[np.logical_not(l)])] \n",
    "#df4 = df3.sort_values(['卡號','進站時間'])\n",
    "#df7 = df2.sort_values(['卡號','進站時間'])\n",
    "dfr4.to_csv('C:/Users/user/Desktop/合理旅次.csv')\n",
    "dfr5.to_csv('C:/Users/user/Desktop/不合理4.csv')"
   ]
  },
  {
   "cell_type": "markdown",
   "metadata": {},
   "source": [
    "#### 整理成訓練格式"
   ]
  },
  {
   "cell_type": "code",
   "execution_count": 91,
   "metadata": {},
   "outputs": [],
   "source": [
    "dftr = pd.read_csv('C:/Users/user/Desktop/python/final/合理旅次.csv',engine = \"python\",encoding = 'utf-8')\n",
    "dftr = dftr.drop(['Unnamed: 0','Unnamed: 0.1','Unnamed: 0.1.1'],axis = 1) \n",
    "cardu = pd.unique(df7.卡號)  "
   ]
  },
  {
   "cell_type": "code",
   "execution_count": 467,
   "metadata": {},
   "outputs": [
    {
     "data": {
      "text/html": [
       "<div>\n",
       "<style scoped>\n",
       "    .dataframe tbody tr th:only-of-type {\n",
       "        vertical-align: middle;\n",
       "    }\n",
       "\n",
       "    .dataframe tbody tr th {\n",
       "        vertical-align: top;\n",
       "    }\n",
       "\n",
       "    .dataframe thead th {\n",
       "        text-align: right;\n",
       "    }\n",
       "</style>\n",
       "<table border=\"1\" class=\"dataframe\">\n",
       "  <thead>\n",
       "    <tr style=\"text-align: right;\">\n",
       "      <th></th>\n",
       "      <th>卡號</th>\n",
       "      <th>卡種</th>\n",
       "      <th>進站時間</th>\n",
       "      <th>出站時間</th>\n",
       "      <th>進站站名</th>\n",
       "      <th>出站站名</th>\n",
       "    </tr>\n",
       "  </thead>\n",
       "  <tbody>\n",
       "    <tr>\n",
       "      <th>0</th>\n",
       "      <td>00001828EC89F17789056806C93DD5BE</td>\n",
       "      <td>1</td>\n",
       "      <td>08:35</td>\n",
       "      <td>08:47</td>\n",
       "      <td>景安</td>\n",
       "      <td>古亭</td>\n",
       "    </tr>\n",
       "    <tr>\n",
       "      <th>1</th>\n",
       "      <td>00001828EC89F17789056806C93DD5BE</td>\n",
       "      <td>1</td>\n",
       "      <td>18:21</td>\n",
       "      <td>18:40</td>\n",
       "      <td>古亭</td>\n",
       "      <td>景安</td>\n",
       "    </tr>\n",
       "    <tr>\n",
       "      <th>2</th>\n",
       "      <td>00003BB606A8D4471CE3A1303DC0F97F</td>\n",
       "      <td>1</td>\n",
       "      <td>06:20</td>\n",
       "      <td>06:31</td>\n",
       "      <td>唭哩岸</td>\n",
       "      <td>北投</td>\n",
       "    </tr>\n",
       "    <tr>\n",
       "      <th>3</th>\n",
       "      <td>00003BB606A8D4471CE3A1303DC0F97F</td>\n",
       "      <td>1</td>\n",
       "      <td>22:07</td>\n",
       "      <td>22:14</td>\n",
       "      <td>北投</td>\n",
       "      <td>唭哩岸</td>\n",
       "    </tr>\n",
       "    <tr>\n",
       "      <th>4</th>\n",
       "      <td>000151D89ED0D51573979766C9583BAD</td>\n",
       "      <td>1</td>\n",
       "      <td>08:48</td>\n",
       "      <td>09:02</td>\n",
       "      <td>古亭</td>\n",
       "      <td>大坪林</td>\n",
       "    </tr>\n",
       "  </tbody>\n",
       "</table>\n",
       "</div>"
      ],
      "text/plain": [
       "                                 卡號  卡種   進站時間   出站時間 進站站名 出站站名\n",
       "0  00001828EC89F17789056806C93DD5BE   1  08:35  08:47   景安   古亭\n",
       "1  00001828EC89F17789056806C93DD5BE   1  18:21  18:40   古亭   景安\n",
       "2  00003BB606A8D4471CE3A1303DC0F97F   1  06:20  06:31  唭哩岸   北投\n",
       "3  00003BB606A8D4471CE3A1303DC0F97F   1  22:07  22:14   北投  唭哩岸\n",
       "4  000151D89ED0D51573979766C9583BAD   1  08:48  09:02   古亭  大坪林"
      ]
     },
     "execution_count": 467,
     "metadata": {},
     "output_type": "execute_result"
    }
   ],
   "source": [
    "dftr.head()"
   ]
  },
  {
   "cell_type": "code",
   "execution_count": 110,
   "metadata": {},
   "outputs": [],
   "source": [
    "ca = []\n",
    "for j in range(0,100):\n",
    "    cardu2 = cardu[range((j*2288),(j+1)*2288)]\n",
    "    dftr2 = dftr.loc[ dftr['卡號'].isin(cardu2)]\n",
    "    for i in cardu2:\n",
    "        a = dftr2[dftr2.卡號 == i]  #從unique叫出卡號\n",
    "        ca.append([a.iloc[0,4],a.iloc[0,5],a.iloc[0,2],a.iloc[0,3],a.iloc[-1,2],a.iloc[-1,3],a.iloc[0,1]])"
   ]
  },
  {
   "cell_type": "code",
   "execution_count": 100,
   "metadata": {},
   "outputs": [],
   "source": [
    "cardu3 = cardu[228800:228890]\n",
    "dftr3 = dftr.loc[ dftr['卡號'].isin(cardu3)]\n",
    "for i in cardu3:\n",
    "    a = dftr3[dftr3.卡號 == i]  #從unique叫出卡號\n",
    "    ca.append([a.iloc[0,4],a.iloc[0,5],a.iloc[0,2],a.iloc[0,3],a.iloc[-1,2],a.iloc[-1,3],a.iloc[0,1]])"
   ]
  },
  {
   "cell_type": "code",
   "execution_count": 102,
   "metadata": {},
   "outputs": [],
   "source": [
    "df8 = pd.DataFrame(ca,columns= ['第一次進站地點', '第一次出站地點','第一次進站時間',\n",
    "                               '第一次出站時間','最後一次進站時間','最後一次出站時間','卡種'])\n",
    "df9 = df8.sort_values(['第一次進站時間','卡種'])"
   ]
  },
  {
   "cell_type": "code",
   "execution_count": 109,
   "metadata": {},
   "outputs": [],
   "source": [
    "df9.to_csv('C:/Users/user/Desktop/合理旅次_訓練格式.csv')"
   ]
  },
  {
   "cell_type": "markdown",
   "metadata": {},
   "source": [
    "#### 處理時間、站點格式"
   ]
  },
  {
   "cell_type": "code",
   "execution_count": 115,
   "metadata": {},
   "outputs": [],
   "source": [
    "df9 = pd.read_csv('C:/Users/user/Desktop/python/final/合理旅次_訓練格式.csv',engine = \"python\",encoding = 'utf-8')\n",
    "df9 = df9.drop(['Unnamed: 0'],axis = 1) \n",
    "stacode = pd.read_csv('C:/Users/user/Desktop/python/final/station_code2.csv',engine = \"python\")"
   ]
  },
  {
   "cell_type": "code",
   "execution_count": 471,
   "metadata": {},
   "outputs": [
    {
     "data": {
      "text/html": [
       "<div>\n",
       "<style scoped>\n",
       "    .dataframe tbody tr th:only-of-type {\n",
       "        vertical-align: middle;\n",
       "    }\n",
       "\n",
       "    .dataframe tbody tr th {\n",
       "        vertical-align: top;\n",
       "    }\n",
       "\n",
       "    .dataframe thead th {\n",
       "        text-align: right;\n",
       "    }\n",
       "</style>\n",
       "<table border=\"1\" class=\"dataframe\">\n",
       "  <thead>\n",
       "    <tr style=\"text-align: right;\">\n",
       "      <th></th>\n",
       "      <th>代號</th>\n",
       "      <th>站名</th>\n",
       "    </tr>\n",
       "  </thead>\n",
       "  <tbody>\n",
       "    <tr>\n",
       "      <th>0</th>\n",
       "      <td>1</td>\n",
       "      <td>動物園</td>\n",
       "    </tr>\n",
       "    <tr>\n",
       "      <th>1</th>\n",
       "      <td>2</td>\n",
       "      <td>木柵</td>\n",
       "    </tr>\n",
       "    <tr>\n",
       "      <th>2</th>\n",
       "      <td>3</td>\n",
       "      <td>萬芳社區</td>\n",
       "    </tr>\n",
       "    <tr>\n",
       "      <th>3</th>\n",
       "      <td>4</td>\n",
       "      <td>萬芳醫院</td>\n",
       "    </tr>\n",
       "    <tr>\n",
       "      <th>4</th>\n",
       "      <td>5</td>\n",
       "      <td>辛亥</td>\n",
       "    </tr>\n",
       "  </tbody>\n",
       "</table>\n",
       "</div>"
      ],
      "text/plain": [
       "   代號    站名\n",
       "0   1   動物園\n",
       "1   2    木柵\n",
       "2   3  萬芳社區\n",
       "3   4  萬芳醫院\n",
       "4   5    辛亥"
      ]
     },
     "execution_count": 471,
     "metadata": {},
     "output_type": "execute_result"
    }
   ],
   "source": [
    "stacode.head()"
   ]
  },
  {
   "cell_type": "markdown",
   "metadata": {},
   "source": [
    "將捷運站名轉為代號\n",
    "\n",
    "使用字典格式處理資料"
   ]
  },
  {
   "cell_type": "code",
   "execution_count": 119,
   "metadata": {},
   "outputs": [],
   "source": [
    "stacode2 = stacode.set_index('站名').T.to_dict('int')\n",
    "stacode3 = stacode2[\"代號\"]\n",
    "df9['第一次進站地點'] = [ stacode3[i] for i in df9['第一次進站地點']]\n",
    "df9['第一次出站地點'] = [ stacode3[i] for i in df9['第一次出站地點']]"
   ]
  },
  {
   "cell_type": "markdown",
   "metadata": {},
   "source": [
    "將時間轉數字 ( 0 - 1)"
   ]
  },
  {
   "cell_type": "code",
   "execution_count": 121,
   "metadata": {
    "scrolled": true
   },
   "outputs": [],
   "source": [
    "sta =  df9.iloc[0:len(df9),1:2] \n",
    "sta.head()\n",
    "t_1 = [(int(e[: 2])*60 + int(e[3: 5]))/1440 for e in df9['第一次進站時間']]\n",
    "t_2 = [(int(e[: 2])*60 + int(e[3: 5]))/1440 for e in df9['第一次出站時間']]\n",
    "t_3 = [(int(e[: 2])*60 + int(e[3: 5]))/1440 for e in df9['最後一次進站時間']]\n",
    "t_4 = [(int(e[: 2])*60 + int(e[3: 5]))/1440 for e in df9['最後一次出站時間']]\n",
    "df9['第一次進站時間']=t_1\n",
    "df9['第一次出站時間']=t_2\n",
    "df9['最後一次進站時間']=t_3\n",
    "df9['最後一次出站時間']=t_4"
   ]
  },
  {
   "cell_type": "code",
   "execution_count": 470,
   "metadata": {},
   "outputs": [
    {
     "data": {
      "text/html": [
       "<div>\n",
       "<style scoped>\n",
       "    .dataframe tbody tr th:only-of-type {\n",
       "        vertical-align: middle;\n",
       "    }\n",
       "\n",
       "    .dataframe tbody tr th {\n",
       "        vertical-align: top;\n",
       "    }\n",
       "\n",
       "    .dataframe thead th {\n",
       "        text-align: right;\n",
       "    }\n",
       "</style>\n",
       "<table border=\"1\" class=\"dataframe\">\n",
       "  <thead>\n",
       "    <tr style=\"text-align: right;\">\n",
       "      <th></th>\n",
       "      <th>第一次進站地點</th>\n",
       "      <th>第一次出站地點</th>\n",
       "      <th>第一次進站時間</th>\n",
       "      <th>第一次出站時間</th>\n",
       "      <th>最後一次進站時間</th>\n",
       "      <th>最後一次出站時間</th>\n",
       "      <th>卡種</th>\n",
       "    </tr>\n",
       "  </thead>\n",
       "  <tbody>\n",
       "    <tr>\n",
       "      <th>0</th>\n",
       "      <td>83</td>\n",
       "      <td>24</td>\n",
       "      <td>0.229861</td>\n",
       "      <td>0.283333</td>\n",
       "      <td>0.709722</td>\n",
       "      <td>0.744444</td>\n",
       "      <td>1</td>\n",
       "    </tr>\n",
       "    <tr>\n",
       "      <th>1</th>\n",
       "      <td>61</td>\n",
       "      <td>29</td>\n",
       "      <td>0.230556</td>\n",
       "      <td>0.252083</td>\n",
       "      <td>0.656944</td>\n",
       "      <td>0.663194</td>\n",
       "      <td>1</td>\n",
       "    </tr>\n",
       "    <tr>\n",
       "      <th>2</th>\n",
       "      <td>91</td>\n",
       "      <td>11</td>\n",
       "      <td>0.230556</td>\n",
       "      <td>0.273611</td>\n",
       "      <td>0.837500</td>\n",
       "      <td>0.863889</td>\n",
       "      <td>1</td>\n",
       "    </tr>\n",
       "    <tr>\n",
       "      <th>3</th>\n",
       "      <td>91</td>\n",
       "      <td>107</td>\n",
       "      <td>0.231250</td>\n",
       "      <td>0.279167</td>\n",
       "      <td>0.711111</td>\n",
       "      <td>0.743750</td>\n",
       "      <td>1</td>\n",
       "    </tr>\n",
       "    <tr>\n",
       "      <th>4</th>\n",
       "      <td>83</td>\n",
       "      <td>66</td>\n",
       "      <td>0.231250</td>\n",
       "      <td>0.277083</td>\n",
       "      <td>0.694444</td>\n",
       "      <td>0.722222</td>\n",
       "      <td>2</td>\n",
       "    </tr>\n",
       "  </tbody>\n",
       "</table>\n",
       "</div>"
      ],
      "text/plain": [
       "   第一次進站地點  第一次出站地點   第一次進站時間   第一次出站時間  最後一次進站時間  最後一次出站時間  卡種\n",
       "0       83       24  0.229861  0.283333  0.709722  0.744444   1\n",
       "1       61       29  0.230556  0.252083  0.656944  0.663194   1\n",
       "2       91       11  0.230556  0.273611  0.837500  0.863889   1\n",
       "3       91      107  0.231250  0.279167  0.711111  0.743750   1\n",
       "4       83       66  0.231250  0.277083  0.694444  0.722222   2"
      ]
     },
     "execution_count": 470,
     "metadata": {},
     "output_type": "execute_result"
    }
   ],
   "source": [
    "df9.head()"
   ]
  },
  {
   "cell_type": "code",
   "execution_count": 514,
   "metadata": {},
   "outputs": [],
   "source": [
    "#stacode['num'] = [(stacode['代號']/108)[i] for i in range(0,108)]  #標準化 目前沒用"
   ]
  },
  {
   "cell_type": "code",
   "execution_count": 123,
   "metadata": {},
   "outputs": [],
   "source": [
    "df9.to_csv('C:/Users/user/Desktop/合理旅次_訓練格式_時間地點.csv')"
   ]
  },
  {
   "cell_type": "markdown",
   "metadata": {},
   "source": [
    "#### 非學生通勤資料 type1234 格式處理"
   ]
  },
  {
   "cell_type": "markdown",
   "metadata": {},
   "source": [
    "重複上述步驟即可"
   ]
  },
  {
   "cell_type": "code",
   "execution_count": 158,
   "metadata": {},
   "outputs": [],
   "source": [
    "df22 = pd.read_csv('C:/Users/user/Desktop/python/final/4個藍色禁止標誌.csv',engine = \"python\",encoding = 'utf-8')\n",
    "df22 = df22.drop(['Unnamed: 0'],axis = 1) \n",
    "df23 = df22.sort_values(['進站時間'])\n",
    "cardnum = pd.unique(df23.卡號)"
   ]
  },
  {
   "cell_type": "code",
   "execution_count": 140,
   "metadata": {},
   "outputs": [],
   "source": [
    "# dfcardg = np.random.choice(dfcardt,23679)"
   ]
  },
  {
   "cell_type": "code",
   "execution_count": 194,
   "metadata": {},
   "outputs": [],
   "source": [
    "cat = []\n",
    "for j in range(0,1000):\n",
    "    cardnum2 = cardnum[range((j*324),(j+1)*324)]\n",
    "    df24 = df23.loc[ df23['卡號'].isin(cardnum2)]\n",
    "    print(j)\n",
    "    for i in cardnum2:\n",
    "        a = df24[df24.卡號 == i]  #從unique叫出卡號\n",
    "        cat.append([a.iloc[0,4],a.iloc[0,5],a.iloc[0,2],a.iloc[0,3],a.iloc[-1,2],\n",
    "                    a.iloc[-1,3],a.iloc[0,1],a.iloc[0,6]])"
   ]
  },
  {
   "cell_type": "code",
   "execution_count": 179,
   "metadata": {},
   "outputs": [],
   "source": [
    "cardnum3 = cardnum[324000:324955]\n",
    "df25 = df23.loc[ df23['卡號'].isin(cardnum3)]\n",
    "for i in cardnum3:\n",
    "    a = df25[df25.卡號 == i]  #從unique叫出卡號\n",
    "    cat.append([a.iloc[0,4],a.iloc[0,5],a.iloc[0,2],a.iloc[0,3],a.iloc[-1,2],\n",
    "                a.iloc[-1,3],a.iloc[0,1],a.iloc[0,6]])"
   ]
  },
  {
   "cell_type": "code",
   "execution_count": 188,
   "metadata": {},
   "outputs": [],
   "source": [
    "df26 = pd.DataFrame(cat,columns= ['第一次進站地點', '第一次出站地點','第一次進站時間',\n",
    "                               '第一次出站時間','最後一次進站時間','最後一次出站時間','卡種','type'])\n",
    "df27 = df26.sort_values(['第一次進站時間','type'])"
   ]
  },
  {
   "cell_type": "code",
   "execution_count": 190,
   "metadata": {},
   "outputs": [],
   "source": [
    "stacode = pd.read_csv('C:/Users/user/Desktop/python/final/station_code2.csv',engine = \"python\")\n",
    "stacode2 = stacode.set_index('站名').T.to_dict('int')\n",
    "stacode3 = stacode2[\"代號\"]\n",
    "df27['第一次進站地點'] = [ stacode3[i] for i in df27['第一次進站地點']]\n",
    "df27['第一次出站地點'] = [ stacode3[i] for i in df27['第一次出站地點']]"
   ]
  },
  {
   "cell_type": "code",
   "execution_count": 191,
   "metadata": {},
   "outputs": [],
   "source": [
    "t_1 = [(int(e[: 2])*60 + int(e[3: 5]))/1440 for e in df27['第一次進站時間']]\n",
    "t_2 = [(int(e[: 2])*60 + int(e[3: 5]))/1440 for e in df27['第一次出站時間']]\n",
    "t_3 = [(int(e[: 2])*60 + int(e[3: 5]))/1440 for e in df27['最後一次進站時間']]\n",
    "t_4 = [(int(e[: 2])*60 + int(e[3: 5]))/1440 for e in df27['最後一次出站時間']]\n",
    "df27['第一次進站時間']=t_1\n",
    "df27['第一次出站時間']=t_2\n",
    "df27['最後一次進站時間']=t_3\n",
    "df27['最後一次出站時間']=t_4"
   ]
  },
  {
   "cell_type": "code",
   "execution_count": 473,
   "metadata": {},
   "outputs": [
    {
     "data": {
      "text/html": [
       "<div>\n",
       "<style scoped>\n",
       "    .dataframe tbody tr th:only-of-type {\n",
       "        vertical-align: middle;\n",
       "    }\n",
       "\n",
       "    .dataframe tbody tr th {\n",
       "        vertical-align: top;\n",
       "    }\n",
       "\n",
       "    .dataframe thead th {\n",
       "        text-align: right;\n",
       "    }\n",
       "</style>\n",
       "<table border=\"1\" class=\"dataframe\">\n",
       "  <thead>\n",
       "    <tr style=\"text-align: right;\">\n",
       "      <th></th>\n",
       "      <th>第一次進站地點</th>\n",
       "      <th>第一次出站地點</th>\n",
       "      <th>第一次進站時間</th>\n",
       "      <th>第一次出站時間</th>\n",
       "      <th>最後一次進站時間</th>\n",
       "      <th>最後一次出站時間</th>\n",
       "      <th>卡種</th>\n",
       "      <th>type</th>\n",
       "    </tr>\n",
       "  </thead>\n",
       "  <tbody>\n",
       "    <tr>\n",
       "      <th>0</th>\n",
       "      <td>30</td>\n",
       "      <td>52</td>\n",
       "      <td>0.229167</td>\n",
       "      <td>0.265278</td>\n",
       "      <td>0.313194</td>\n",
       "      <td>0.329861</td>\n",
       "      <td>129</td>\n",
       "      <td>4</td>\n",
       "    </tr>\n",
       "    <tr>\n",
       "      <th>1</th>\n",
       "      <td>83</td>\n",
       "      <td>41</td>\n",
       "      <td>0.229861</td>\n",
       "      <td>0.272917</td>\n",
       "      <td>0.745833</td>\n",
       "      <td>0.769444</td>\n",
       "      <td>2</td>\n",
       "      <td>3</td>\n",
       "    </tr>\n",
       "    <tr>\n",
       "      <th>2</th>\n",
       "      <td>99</td>\n",
       "      <td>10</td>\n",
       "      <td>0.231250</td>\n",
       "      <td>0.261111</td>\n",
       "      <td>0.715278</td>\n",
       "      <td>0.725694</td>\n",
       "      <td>2</td>\n",
       "      <td>3</td>\n",
       "    </tr>\n",
       "    <tr>\n",
       "      <th>3</th>\n",
       "      <td>98</td>\n",
       "      <td>103</td>\n",
       "      <td>0.231944</td>\n",
       "      <td>0.263194</td>\n",
       "      <td>0.668750</td>\n",
       "      <td>0.685417</td>\n",
       "      <td>1</td>\n",
       "      <td>3</td>\n",
       "    </tr>\n",
       "    <tr>\n",
       "      <th>4</th>\n",
       "      <td>98</td>\n",
       "      <td>67</td>\n",
       "      <td>0.231944</td>\n",
       "      <td>0.265972</td>\n",
       "      <td>0.754861</td>\n",
       "      <td>0.766667</td>\n",
       "      <td>6</td>\n",
       "      <td>3</td>\n",
       "    </tr>\n",
       "  </tbody>\n",
       "</table>\n",
       "</div>"
      ],
      "text/plain": [
       "   第一次進站地點  第一次出站地點   第一次進站時間   第一次出站時間  最後一次進站時間  最後一次出站時間   卡種  type\n",
       "0       30       52  0.229167  0.265278  0.313194  0.329861  129     4\n",
       "1       83       41  0.229861  0.272917  0.745833  0.769444    2     3\n",
       "2       99       10  0.231250  0.261111  0.715278  0.725694    2     3\n",
       "3       98      103  0.231944  0.263194  0.668750  0.685417    1     3\n",
       "4       98       67  0.231944  0.265972  0.754861  0.766667    6     3"
      ]
     },
     "execution_count": 473,
     "metadata": {},
     "output_type": "execute_result"
    }
   ],
   "source": [
    "df27.head()"
   ]
  },
  {
   "cell_type": "code",
   "execution_count": 193,
   "metadata": {},
   "outputs": [],
   "source": [
    "df27.to_csv('C:/Users/user/Desktop/type1234_訓練格式_時間地點.csv')"
   ]
  },
  {
   "cell_type": "markdown",
   "metadata": {},
   "source": [
    "### 取出資料 \n",
    "dfr : 經篩選過後之合理旅次 <br>\n",
    "dfn : 篩選掉的資料 "
   ]
  },
  {
   "cell_type": "code",
   "execution_count": 448,
   "metadata": {},
   "outputs": [],
   "source": [
    "dfr = pd.read_csv('C:/Users/user/Desktop/python//final/合理旅次_訓練格式_時間地點.csv',engine = \"python\",encoding = 'utf-8')\n",
    "dfn = pd.read_csv('C:/Users/user/Desktop/python//final/type1234_訓練格式_時間地點.csv',engine = \"python\",encoding = 'utf-8')\n",
    "dfr = dfr.drop(['Unnamed: 0'],axis = 1) \n",
    "dfn = dfn.drop(['Unnamed: 0'],axis = 1) "
   ]
  },
  {
   "cell_type": "code",
   "execution_count": 474,
   "metadata": {},
   "outputs": [
    {
     "data": {
      "text/html": [
       "<div>\n",
       "<style scoped>\n",
       "    .dataframe tbody tr th:only-of-type {\n",
       "        vertical-align: middle;\n",
       "    }\n",
       "\n",
       "    .dataframe tbody tr th {\n",
       "        vertical-align: top;\n",
       "    }\n",
       "\n",
       "    .dataframe thead th {\n",
       "        text-align: right;\n",
       "    }\n",
       "</style>\n",
       "<table border=\"1\" class=\"dataframe\">\n",
       "  <thead>\n",
       "    <tr style=\"text-align: right;\">\n",
       "      <th></th>\n",
       "      <th>第一次進站地點</th>\n",
       "      <th>第一次出站地點</th>\n",
       "      <th>第一次進站時間</th>\n",
       "      <th>第一次出站時間</th>\n",
       "      <th>最後一次進站時間</th>\n",
       "      <th>最後一次出站時間</th>\n",
       "      <th>卡種</th>\n",
       "    </tr>\n",
       "  </thead>\n",
       "  <tbody>\n",
       "    <tr>\n",
       "      <th>0</th>\n",
       "      <td>83</td>\n",
       "      <td>24</td>\n",
       "      <td>0.229861</td>\n",
       "      <td>0.283333</td>\n",
       "      <td>0.709722</td>\n",
       "      <td>0.744444</td>\n",
       "      <td>1</td>\n",
       "    </tr>\n",
       "    <tr>\n",
       "      <th>1</th>\n",
       "      <td>61</td>\n",
       "      <td>29</td>\n",
       "      <td>0.230556</td>\n",
       "      <td>0.252083</td>\n",
       "      <td>0.656944</td>\n",
       "      <td>0.663194</td>\n",
       "      <td>1</td>\n",
       "    </tr>\n",
       "    <tr>\n",
       "      <th>2</th>\n",
       "      <td>91</td>\n",
       "      <td>11</td>\n",
       "      <td>0.230556</td>\n",
       "      <td>0.273611</td>\n",
       "      <td>0.837500</td>\n",
       "      <td>0.863889</td>\n",
       "      <td>1</td>\n",
       "    </tr>\n",
       "    <tr>\n",
       "      <th>3</th>\n",
       "      <td>91</td>\n",
       "      <td>107</td>\n",
       "      <td>0.231250</td>\n",
       "      <td>0.279167</td>\n",
       "      <td>0.711111</td>\n",
       "      <td>0.743750</td>\n",
       "      <td>1</td>\n",
       "    </tr>\n",
       "    <tr>\n",
       "      <th>4</th>\n",
       "      <td>83</td>\n",
       "      <td>66</td>\n",
       "      <td>0.231250</td>\n",
       "      <td>0.277083</td>\n",
       "      <td>0.694444</td>\n",
       "      <td>0.722222</td>\n",
       "      <td>2</td>\n",
       "    </tr>\n",
       "  </tbody>\n",
       "</table>\n",
       "</div>"
      ],
      "text/plain": [
       "   第一次進站地點  第一次出站地點   第一次進站時間   第一次出站時間  最後一次進站時間  最後一次出站時間  卡種\n",
       "0       83       24  0.229861  0.283333  0.709722  0.744444   1\n",
       "1       61       29  0.230556  0.252083  0.656944  0.663194   1\n",
       "2       91       11  0.230556  0.273611  0.837500  0.863889   1\n",
       "3       91      107  0.231250  0.279167  0.711111  0.743750   1\n",
       "4       83       66  0.231250  0.277083  0.694444  0.722222   2"
      ]
     },
     "execution_count": 474,
     "metadata": {},
     "output_type": "execute_result"
    }
   ],
   "source": [
    "dfr.head()"
   ]
  },
  {
   "cell_type": "code",
   "execution_count": 475,
   "metadata": {},
   "outputs": [
    {
     "data": {
      "text/html": [
       "<div>\n",
       "<style scoped>\n",
       "    .dataframe tbody tr th:only-of-type {\n",
       "        vertical-align: middle;\n",
       "    }\n",
       "\n",
       "    .dataframe tbody tr th {\n",
       "        vertical-align: top;\n",
       "    }\n",
       "\n",
       "    .dataframe thead th {\n",
       "        text-align: right;\n",
       "    }\n",
       "</style>\n",
       "<table border=\"1\" class=\"dataframe\">\n",
       "  <thead>\n",
       "    <tr style=\"text-align: right;\">\n",
       "      <th></th>\n",
       "      <th>第一次進站地點</th>\n",
       "      <th>第一次出站地點</th>\n",
       "      <th>第一次進站時間</th>\n",
       "      <th>第一次出站時間</th>\n",
       "      <th>最後一次進站時間</th>\n",
       "      <th>最後一次出站時間</th>\n",
       "      <th>卡種</th>\n",
       "      <th>type</th>\n",
       "    </tr>\n",
       "  </thead>\n",
       "  <tbody>\n",
       "    <tr>\n",
       "      <th>0</th>\n",
       "      <td>30</td>\n",
       "      <td>52</td>\n",
       "      <td>0.229167</td>\n",
       "      <td>0.265278</td>\n",
       "      <td>0.313194</td>\n",
       "      <td>0.329861</td>\n",
       "      <td>129</td>\n",
       "      <td>4</td>\n",
       "    </tr>\n",
       "    <tr>\n",
       "      <th>1</th>\n",
       "      <td>83</td>\n",
       "      <td>41</td>\n",
       "      <td>0.229861</td>\n",
       "      <td>0.272917</td>\n",
       "      <td>0.745833</td>\n",
       "      <td>0.769444</td>\n",
       "      <td>2</td>\n",
       "      <td>3</td>\n",
       "    </tr>\n",
       "    <tr>\n",
       "      <th>2</th>\n",
       "      <td>99</td>\n",
       "      <td>10</td>\n",
       "      <td>0.231250</td>\n",
       "      <td>0.261111</td>\n",
       "      <td>0.715278</td>\n",
       "      <td>0.725694</td>\n",
       "      <td>2</td>\n",
       "      <td>3</td>\n",
       "    </tr>\n",
       "    <tr>\n",
       "      <th>3</th>\n",
       "      <td>98</td>\n",
       "      <td>103</td>\n",
       "      <td>0.231944</td>\n",
       "      <td>0.263194</td>\n",
       "      <td>0.668750</td>\n",
       "      <td>0.685417</td>\n",
       "      <td>1</td>\n",
       "      <td>3</td>\n",
       "    </tr>\n",
       "    <tr>\n",
       "      <th>4</th>\n",
       "      <td>98</td>\n",
       "      <td>67</td>\n",
       "      <td>0.231944</td>\n",
       "      <td>0.265972</td>\n",
       "      <td>0.754861</td>\n",
       "      <td>0.766667</td>\n",
       "      <td>6</td>\n",
       "      <td>3</td>\n",
       "    </tr>\n",
       "  </tbody>\n",
       "</table>\n",
       "</div>"
      ],
      "text/plain": [
       "   第一次進站地點  第一次出站地點   第一次進站時間   第一次出站時間  最後一次進站時間  最後一次出站時間   卡種  type\n",
       "0       30       52  0.229167  0.265278  0.313194  0.329861  129     4\n",
       "1       83       41  0.229861  0.272917  0.745833  0.769444    2     3\n",
       "2       99       10  0.231250  0.261111  0.715278  0.725694    2     3\n",
       "3       98      103  0.231944  0.263194  0.668750  0.685417    1     3\n",
       "4       98       67  0.231944  0.265972  0.754861  0.766667    6     3"
      ]
     },
     "execution_count": 475,
     "metadata": {},
     "output_type": "execute_result"
    }
   ],
   "source": [
    "dfn.head()"
   ]
  },
  {
   "cell_type": "markdown",
   "metadata": {},
   "source": [
    "#### 將合理旅次資料標籤 ####\n",
    "\n",
    "訓練資料:測試資料為7:3"
   ]
  },
  {
   "cell_type": "code",
   "execution_count": 449,
   "metadata": {},
   "outputs": [],
   "source": [
    "#學生卡\n",
    "dfr1 = dfr[dfr['卡種']==6]\n",
    "dfr1 = dfr1.drop(['卡種'],axis = 1)\n",
    "dfr1y = np.array([1]*dfr1.shape[0])\n",
    "dfr1t,dfr1test,dfr1yl,dfr1ytest= train_test_split(dfr1,dfr1y,test_size=0.3)   #切分資料為 train test\n",
    "\n",
    "#普通卡\n",
    "dfr2 = dfr[dfr['卡種']==1]\n",
    "dfr2 = dfr2.drop(['卡種'],axis = 1) \n",
    "dfr2y = np.array([2]*dfr2.shape[0])\n",
    "dfr2t,dfr2test,dfr2yl,dfr2ytest= train_test_split(dfr2,dfr2y,test_size=0.3)\n",
    "\n",
    "#其他卡種\n",
    "dfr3 = dfr[(dfr['卡種']!=1) & (dfr['卡種']!=6)]\n",
    "dfr3 = dfr3.drop(['卡種'],axis = 1) \n",
    "dfr3y = np.array([0]*dfr3.shape[0])\n",
    "dfr3t,dfr3test,dfr3yl,dfr3ytest= train_test_split(dfr3,dfr3y,test_size=0.3)"
   ]
  },
  {
   "cell_type": "code",
   "execution_count": 423,
   "metadata": {},
   "outputs": [],
   "source": [
    "#### 將非學生通勤旅次資料標籤\n",
    "\n",
    "##type 1 \n",
    "#dfn1 = dfn[dfn['type'] == 1]\n",
    "#dfn1 = dfn1.drop(['卡種','type'],axis = 1) \n",
    "#dfn1y = np.array([0]*dfn1.shape[0])\n",
    "#dfn1t,q,dfn1yl,q = train_test_split(dfn1,dfn1y,test_size=0.9)\n",
    "##type 2 \n",
    "#dfn2 = dfn[dfn['type'] == 2]\n",
    "#dfn2 = dfn2.drop(['卡種','type'],axis = 1) \n",
    "#dfn2y = np.array([0]*dfn2.shape[0])\n",
    "#dfn2t,q,dfn2yl,q = train_test_split(dfn2,dfn2y,test_size=0.9)\n",
    "##type 3 \n",
    "#dfn3 = dfn[dfn['type'] == 3]\n",
    "#dfn3 = dfn3.drop(['卡種','type'],axis = 1) \n",
    "#dfn3y = np.array([0]*dfn3.shape[0])\n",
    "#dfn3t,q,dfn3yl,q = train_test_split(dfn3,dfn3y,test_size=0.9)\n",
    "##type 4 \n",
    "#dfn4 = dfn[dfn['type'] == 4]\n",
    "#dfn4 = dfn4.drop(['卡種','type'],axis = 1) \n",
    "#dfn4y = np.array([0]*dfn4.shape[0])\n",
    "#dfn4t,q,dfn4yl,q = train_test_split(dfn4,dfn4y,test_size=0.9)"
   ]
  },
  {
   "cell_type": "code",
   "execution_count": 450,
   "metadata": {},
   "outputs": [],
   "source": [
    "x_train = pd.concat([dfr1t,dfr2t,dfr3t],axis=0)    #部分旅次合理卡 \n",
    "y_train = np.concatenate([dfr1yl,dfr2yl,dfr3yl])\n",
    "x_test =  pd.concat([dfr1test,dfr2test,dfr3test],axis=0)   #其他部分合理卡號\n",
    "y_test = np.concatenate([dfr1ytest,dfr2ytest,dfr3ytest])\n",
    "y_train = np_utils.to_categorical(y_train, 3)  \n",
    "y_test = np_utils.to_categorical(y_test, 3)"
   ]
  },
  {
   "cell_type": "markdown",
   "metadata": {},
   "source": [
    "### Training"
   ]
  },
  {
   "cell_type": "markdown",
   "metadata": {},
   "source": [
    "輸入分為學生卡、一般卡及其他卡種，使機器判定為何卡種\n",
    "\n",
    "輸入包括  第一次進站地點、第一次出站地點、第一次進站時間、第一次出站時間、最後一次進站時間、最後一次出站時間\n",
    "\n",
    "輸出為 標籤 0(其他卡種) 1(學生卡) 2(一般卡)"
   ]
  },
  {
   "cell_type": "markdown",
   "metadata": {},
   "source": [
    "#### Model 1 "
   ]
  },
  {
   "cell_type": "markdown",
   "metadata": {},
   "source": [
    "使用簡單的類神經網絡"
   ]
  },
  {
   "cell_type": "code",
   "execution_count": 493,
   "metadata": {},
   "outputs": [
    {
     "name": "stdout",
     "output_type": "stream",
     "text": [
      "_________________________________________________________________\n",
      "Layer (type)                 Output Shape              Param #   \n",
      "=================================================================\n",
      "dense_163 (Dense)            (None, 16)                112       \n",
      "_________________________________________________________________\n",
      "activation_73 (Activation)   (None, 16)                0         \n",
      "_________________________________________________________________\n",
      "dense_164 (Dense)            (None, 32)                544       \n",
      "_________________________________________________________________\n",
      "activation_74 (Activation)   (None, 32)                0         \n",
      "_________________________________________________________________\n",
      "dense_165 (Dense)            (None, 3)                 99        \n",
      "_________________________________________________________________\n",
      "activation_75 (Activation)   (None, 3)                 0         \n",
      "=================================================================\n",
      "Total params: 755\n",
      "Trainable params: 755\n",
      "Non-trainable params: 0\n",
      "_________________________________________________________________\n"
     ]
    }
   ],
   "source": [
    "L1 = 16 #第一層\n",
    "L2 = 32  #第二層\n",
    "model_1 = Sequential()\n",
    "model_1.add(Dense(L1, input_dim=6)) \n",
    "model_1.add(Activation('relu'))      #選擇常用的relu    #測試後relu結果較好\n",
    "model_1.add(Dense(L2))                 \n",
    "model_1.add(Activation('relu'))\n",
    "model_1.add(Dense(3))                #output 分類的 3維\n",
    "model_1.add(Activation('sigmoid'))   \n",
    "model_1.compile(loss='binary_crossentropy',  \n",
    "              optimizer=Adam(lr=0.05), metrics=[\"accuracy\"])  #選擇常用optimizer Adam\n",
    "model_1.summary()"
   ]
  },
  {
   "cell_type": "code",
   "execution_count": 494,
   "metadata": {},
   "outputs": [
    {
     "name": "stdout",
     "output_type": "stream",
     "text": [
      "Train on 160222 samples, validate on 68668 samples\n",
      "Epoch 1/3\n",
      "160222/160222 [==============================] - 6s 38us/step - loss: 0.4828 - acc: 0.8185 - val_loss: 0.4327 - val_acc: 0.8202\n",
      "Epoch 2/3\n",
      "160222/160222 [==============================] - 4s 26us/step - loss: 0.4334 - acc: 0.8202 - val_loss: 0.4339 - val_acc: 0.8202\n",
      "Epoch 3/3\n",
      "160222/160222 [==============================] - 4s 25us/step - loss: 0.4332 - acc: 0.8202 - val_loss: 0.4329 - val_acc: 0.8202\n"
     ]
    }
   ],
   "source": [
    "model_t = model_1.fit(x_train, y_train, \n",
    "                    batch_size=128, epochs=3, verbose=1,\n",
    "                    validation_data = (x_test, y_test))"
   ]
  },
  {
   "cell_type": "code",
   "execution_count": 495,
   "metadata": {},
   "outputs": [
    {
     "name": "stdout",
     "output_type": "stream",
     "text": [
      "68668/68668 [==============================] - 2s 30us/step\n",
      "測試資料的 loss: 0.43292066231113907\n",
      "測試資料正確率: 0.82018795218348\n"
     ]
    }
   ],
   "source": [
    "score = model_1.evaluate(x_test, y_test)\n",
    "print('測試資料的 loss:', score[0])\n",
    "print('測試資料正確率:', score[1])"
   ]
  },
  {
   "cell_type": "markdown",
   "metadata": {},
   "source": [
    "#### Model 2"
   ]
  },
  {
   "cell_type": "markdown",
   "metadata": {},
   "source": [
    "使用相對較難、具有分岐之深度學習網絡"
   ]
  },
  {
   "cell_type": "code",
   "execution_count": 497,
   "metadata": {},
   "outputs": [
    {
     "name": "stdout",
     "output_type": "stream",
     "text": [
      "Train on 160222 samples, validate on 68668 samples\n",
      "Epoch 1/20\n",
      "160222/160222 [==============================] - 12s 73us/step - loss: 0.4458 - acc: 0.8186 - val_loss: 0.4289 - val_acc: 0.8205\n",
      "Epoch 2/20\n",
      "160222/160222 [==============================] - 11s 69us/step - loss: 0.4293 - acc: 0.8209 - val_loss: 0.4296 - val_acc: 0.8206\n",
      "Epoch 3/20\n",
      "160222/160222 [==============================] - 11s 69us/step - loss: 0.4274 - acc: 0.8208 - val_loss: 0.4287 - val_acc: 0.8206\n",
      "Epoch 4/20\n",
      "160222/160222 [==============================] - 11s 70us/step - loss: 0.4256 - acc: 0.8210 - val_loss: 0.4267 - val_acc: 0.8205\n",
      "Epoch 5/20\n",
      "160222/160222 [==============================] - 12s 72us/step - loss: 0.4249 - acc: 0.8209 - val_loss: 0.4274 - val_acc: 0.8208\n",
      "Epoch 6/20\n",
      "160222/160222 [==============================] - 12s 76us/step - loss: 0.4233 - acc: 0.8210 - val_loss: 0.4209 - val_acc: 0.8205\n",
      "Epoch 7/20\n",
      "160222/160222 [==============================] - 13s 79us/step - loss: 0.4215 - acc: 0.8210 - val_loss: 0.4222 - val_acc: 0.8208\n",
      "Epoch 8/20\n",
      "160222/160222 [==============================] - 12s 77us/step - loss: 0.4202 - acc: 0.8211 - val_loss: 0.4174 - val_acc: 0.8206\n",
      "Epoch 9/20\n",
      "160222/160222 [==============================] - 10s 63us/step - loss: 0.4173 - acc: 0.8212 - val_loss: 0.4188 - val_acc: 0.8209\n",
      "Epoch 10/20\n",
      "160222/160222 [==============================] - 10s 61us/step - loss: 0.4148 - acc: 0.8215 - val_loss: 0.4097 - val_acc: 0.8221\n",
      "Epoch 11/20\n",
      "160222/160222 [==============================] - 10s 60us/step - loss: 0.4128 - acc: 0.8218 - val_loss: 0.4135 - val_acc: 0.8211\n",
      "Epoch 12/20\n",
      "160222/160222 [==============================] - 11s 66us/step - loss: 0.4103 - acc: 0.8225 - val_loss: 0.4062 - val_acc: 0.8218\n",
      "Epoch 13/20\n",
      "160222/160222 [==============================] - 10s 65us/step - loss: 0.4099 - acc: 0.8223 - val_loss: 0.4091 - val_acc: 0.8225\n",
      "Epoch 14/20\n",
      "160222/160222 [==============================] - 10s 65us/step - loss: 0.4071 - acc: 0.8228 - val_loss: 0.4042 - val_acc: 0.8227\n",
      "Epoch 15/20\n",
      "160222/160222 [==============================] - 11s 67us/step - loss: 0.4044 - acc: 0.8240 - val_loss: 0.3995 - val_acc: 0.8242\n",
      "Epoch 16/20\n",
      "160222/160222 [==============================] - 10s 60us/step - loss: 0.4052 - acc: 0.8242 - val_loss: 0.4017 - val_acc: 0.8257\n",
      "Epoch 17/20\n",
      "160222/160222 [==============================] - 11s 69us/step - loss: 0.4022 - acc: 0.8251 - val_loss: 0.4108 - val_acc: 0.8225\n",
      "Epoch 18/20\n",
      "160222/160222 [==============================] - 11s 70us/step - loss: 0.4011 - acc: 0.8263 - val_loss: 0.4021 - val_acc: 0.82424027 - acc: 0.825 - ETA: 2s - ETA: 0s - loss: 0.4008 \n",
      "Epoch 19/20\n",
      "160222/160222 [==============================] - 11s 68us/step - loss: 0.3998 - acc: 0.8268 - val_loss: 0.4105 - val_acc: 0.8198\n",
      "Epoch 20/20\n",
      "160222/160222 [==============================] - 11s 69us/step - loss: 0.3990 - acc: 0.8276 - val_loss: 0.4019 - val_acc: 0.8262\n"
     ]
    }
   ],
   "source": [
    "x = Input(shape=(6,))\n",
    "# 不同階層的函數\n",
    "f_1 = Dense(400, activation='relu')\n",
    "f_2 = Dense(200, activation='relu')\n",
    "f_3 = Dense(200, activation='relu')\n",
    "f_4 = Dense(100, activation='relu')\n",
    "f_5 = Dense(100, activation='relu')\n",
    "f_6 = Dense(400, activation='relu')\n",
    "f_7 = Dense(200, activation='relu')\n",
    "f_8 = Dense(200, activation='relu')\n",
    "f_9 = Dense(100, activation='relu')\n",
    "f_10 = Dense(3, activation='sigmoid')\n",
    "# hiden layer\n",
    "h_11 = f_1(x)\n",
    "h_21 = f_2(h_11)\n",
    "h_22 = f_3(h_11)\n",
    "u1=concatenate([h_21,h_22])\n",
    "h_31 = f_4(u1)\n",
    "h_12 = f_6(x)\n",
    "h_23 = f_7(h_12)\n",
    "h_24 = f_8(h_12)\n",
    "u2=concatenate([h_23,h_24])\n",
    "h_32 = f_9(u2)\n",
    "u3=concatenate([h_31,h_32])\n",
    "h_4 = f_5(u3)\n",
    "y = f_10(h_4)\n",
    "model_2 = Model(x, y)\n",
    "#model.summary()\n",
    "#model training\n",
    "model_2.compile(loss='binary_crossentropy', optimizer='adam', metrics=['accuracy'])\n",
    "model_2t=model_2.fit(x_train, y_train, batch_size=256, epochs=20,validation_data = (x_test, y_test))"
   ]
  },
  {
   "cell_type": "code",
   "execution_count": 498,
   "metadata": {},
   "outputs": [
    {
     "name": "stdout",
     "output_type": "stream",
     "text": [
      "68668/68668 [==============================] - 5s 72us/step\n",
      "測試資料的 loss: 0.40190687386221713\n",
      "測試資料正確率: 0.8261732757751211\n"
     ]
    }
   ],
   "source": [
    "score = model_2.evaluate(x_test, y_test)\n",
    "print('測試資料的 loss:', score[0])\n",
    "print('測試資料正確率:', score[1])"
   ]
  },
  {
   "cell_type": "code",
   "execution_count": 491,
   "metadata": {},
   "outputs": [],
   "source": [
    "#backup\n",
    "t = '''\n",
    "#學生卡\n",
    "dfr1 = dfr[dfr['卡種']==6]\n",
    "dfr1 = dfr1.drop(['卡種'],axis = 1)\n",
    "dfr1y = np.array([1]*dfr1.shape[0])\n",
    "dfr1t,dfr1test,dfr1yl,dfr1ytest= train_test_split(dfr1,dfr1y,test_size=0.3)   #切分資料為 train test\n",
    "\n",
    "#普通卡\n",
    "dfr2 = dfr[dfr['卡種']==1]\n",
    "dfr2 = dfr2.drop(['卡種'],axis = 1) \n",
    "dfr2y = np.array([0]*dfr2.shape[0])\n",
    "dfr2t,dfr2test,dfr2yl,dfr2ytest= train_test_split(dfr2,dfr2y,test_size=0.3)\n",
    "\n",
    "#其他卡種\n",
    "dfr3 = dfr[(dfr['卡種']!=1) & (dfr['卡種']!=6)]\n",
    "dfr3 = dfr3.drop(['卡種'],axis = 1) \n",
    "dfr3y = np.array([0]*dfr3.shape[0])\n",
    "dfr3t,dfr3test,dfr3yl,dfr3ytest= train_test_split(dfr3,dfr3y,test_size=0.3)\n",
    "\n",
    "x_train = pd.concat([dfr1t,dfr2t,dfr3t,dfn1t,dfn2t,dfn3t,dfn4t],axis=0)    #部分合理卡 + 部分type1234\n",
    "y_train = np.concatenate([dfr1yl,dfr2yl,dfr3yl,dfn1yl,dfn2yl,dfn3yl,dfn4yl])\n",
    "x_test =  pd.concat([dfr1test,dfr2test,dfr3test],axis=0)   #其他部分合理卡\n",
    "y_test = np.concatenate([dfr1ytest,dfr2ytest,dfr3ytest])\n",
    "y_train = np_utils.to_categorical(y_train, 2)\n",
    "y_test = np_utils.to_categorical(y_test, 2)'''"
   ]
  }
 ],
 "metadata": {
  "kernelspec": {
   "display_name": "Python 3",
   "language": "python",
   "name": "python3"
  },
  "language_info": {
   "codemirror_mode": {
    "name": "ipython",
    "version": 3
   },
   "file_extension": ".py",
   "mimetype": "text/x-python",
   "name": "python",
   "nbconvert_exporter": "python",
   "pygments_lexer": "ipython3",
   "version": "3.6.8"
  }
 },
 "nbformat": 4,
 "nbformat_minor": 2
}
