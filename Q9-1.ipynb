{
 "cells": [
  {
   "cell_type": "markdown",
   "metadata": {},
   "source": [
    "#### Activation 使用常用Relu，\n",
    "#### loss function 改用 categorical_crossentropy(多分類問題)，\n",
    "#### optimizer 改用 Adadelta，\n",
    "#### filter選擇 3 X 3\n",
    "#### pool size 2 X 2 \n",
    "#### filter 個數取 4、8、16\n",
    "#### 接dense層 15個神經元\n",
    "#### 即有約98%的正確率"
   ]
  },
  {
   "cell_type": "code",
   "execution_count": null,
   "metadata": {},
   "outputs": [],
   "source": [
    "%matplotlib inline\n",
    "%env KERAS_BACKEND = tensorflow  \n",
    "##確保一致性\n",
    "import numpy as np\n",
    "import matplotlib.pyplot as plt\n",
    "from keras.datasets import mnist    #資料庫\n",
    "from keras.utils import np_utils    #轉為分類問題\n",
    "from keras.utils import to_categorical \n",
    "from keras.models import Sequential #神經網路相關套件  標準\n",
    "from keras.layers import Dense, Activation, Flatten #flatten為拉平\n",
    "from keras.layers import Conv2D, MaxPooling2D \n",
    "from keras.optimizers import SGD    #隨機調整\n",
    "from keras.optimizers import Adam\n",
    "from keras.optimizers import Adadelta\n",
    "from ipywidgets import interact_manual\n",
    "from keras.models import Model  #Functional API\n",
    "from keras.layers import Input  #以函數來代替input_dim  \n",
    "from keras.layers import concatenate, add  # 用來介接分歧的模型"
   ]
  },
  {
   "cell_type": "markdown",
   "metadata": {},
   "source": [
    "資料處理"
   ]
  },
  {
   "cell_type": "code",
   "execution_count": 81,
   "metadata": {},
   "outputs": [],
   "source": [
    "(x_train, y_train), (x_test, y_test) = mnist.load_data()   #載入資料\n",
    "x_train = (x_train - x_train.min()) / (x_train.max() - x_train.min()) # 正規化\n",
    "x_test = (x_test - x_test.min()) / (x_test.max() - x_test.min())\n",
    "x_train = x_train.reshape(60000, 28, 28, 1)   # 轉成CNN 的格式 這裡是1維資料\n",
    "x_test = x_test.reshape(10000, 28, 28, 1)\n",
    "y_train = np_utils.to_categorical(y_train, 10) # 轉為分類\n",
    "y_test = np_utils.to_categorical(y_test, 10)"
   ]
  },
  {
   "cell_type": "code",
   "execution_count": 102,
   "metadata": {},
   "outputs": [],
   "source": [
    "model = Sequential()"
   ]
  },
  {
   "cell_type": "code",
   "execution_count": 103,
   "metadata": {},
   "outputs": [],
   "source": [
    "model.add(Conv2D(4, (3, 3), padding='same', input_shape=(28,28,1)))   #第一次 convolution\n",
    "model.add(Activation('relu'))\n",
    "model.add(MaxPooling2D(pool_size=(2, 2)))      # max-pooling\n",
    "model.add(Conv2D(8, (3, 3), padding='same'))   #第二次 convolution\n",
    "model.add(Activation('relu'))\n",
    "model.add(MaxPooling2D(pool_size=(2, 2)))\n",
    "model.add(Conv2D(16, (3, 3), padding='same'))  #第三次 convolution\n",
    "model.add(Activation('relu'))\n",
    "model.add(MaxPooling2D(pool_size=(2, 2)))\n",
    "model.add(Flatten())     # 拉平\n",
    "model.add(Dense(15))     # 接一層 NN   \n",
    "model.add(Activation('relu'))  \n",
    "model.add(Dense(10))     #輸出\n",
    "model.add(Activation('softmax'))"
   ]
  },
  {
   "cell_type": "code",
   "execution_count": 108,
   "metadata": {},
   "outputs": [],
   "source": [
    "model.compile(loss=\"categorical_crossentropy\",  #多分類問題使用categorical_crossentropy\n",
    "              optimizer=Adadelta(),\n",
    "              metrics=['accuracy'])"
   ]
  },
  {
   "cell_type": "code",
   "execution_count": 112,
   "metadata": {},
   "outputs": [
    {
     "name": "stdout",
     "output_type": "stream",
     "text": [
      "_________________________________________________________________\n",
      "Layer (type)                 Output Shape              Param #   \n",
      "=================================================================\n",
      "conv2d_19 (Conv2D)           (None, 28, 28, 4)         40        \n",
      "_________________________________________________________________\n",
      "activation_29 (Activation)   (None, 28, 28, 4)         0         \n",
      "_________________________________________________________________\n",
      "max_pooling2d_19 (MaxPooling (None, 14, 14, 4)         0         \n",
      "_________________________________________________________________\n",
      "conv2d_20 (Conv2D)           (None, 14, 14, 8)         296       \n",
      "_________________________________________________________________\n",
      "activation_30 (Activation)   (None, 14, 14, 8)         0         \n",
      "_________________________________________________________________\n",
      "max_pooling2d_20 (MaxPooling (None, 7, 7, 8)           0         \n",
      "_________________________________________________________________\n",
      "conv2d_21 (Conv2D)           (None, 7, 7, 16)          1168      \n",
      "_________________________________________________________________\n",
      "activation_31 (Activation)   (None, 7, 7, 16)          0         \n",
      "_________________________________________________________________\n",
      "max_pooling2d_21 (MaxPooling (None, 3, 3, 16)          0         \n",
      "_________________________________________________________________\n",
      "flatten_6 (Flatten)          (None, 144)               0         \n",
      "_________________________________________________________________\n",
      "dense_11 (Dense)             (None, 15)                2175      \n",
      "_________________________________________________________________\n",
      "activation_32 (Activation)   (None, 15)                0         \n",
      "_________________________________________________________________\n",
      "dense_12 (Dense)             (None, 10)                160       \n",
      "_________________________________________________________________\n",
      "activation_33 (Activation)   (None, 10)                0         \n",
      "=================================================================\n",
      "Total params: 3,839\n",
      "Trainable params: 3,839\n",
      "Non-trainable params: 0\n",
      "_________________________________________________________________\n"
     ]
    }
   ],
   "source": [
    "model.summary()"
   ]
  },
  {
   "cell_type": "code",
   "execution_count": 114,
   "metadata": {},
   "outputs": [
    {
     "name": "stdout",
     "output_type": "stream",
     "text": [
      "Train on 60000 samples, validate on 10000 samples\n",
      "Epoch 1/10\n",
      "60000/60000 [==============================] - 51s 851us/step - loss: 0.1078 - acc: 0.9658 - val_loss: 0.0820 - val_acc: 0.9739\n",
      "Epoch 2/10\n",
      "60000/60000 [==============================] - 50s 835us/step - loss: 0.0858 - acc: 0.9721 - val_loss: 0.0654 - val_acc: 0.9798\n",
      "Epoch 3/10\n",
      "60000/60000 [==============================] - 50s 828us/step - loss: 0.0737 - acc: 0.9764 - val_loss: 0.0600 - val_acc: 0.9808\n",
      "Epoch 4/10\n",
      "60000/60000 [==============================] - 50s 833us/step - loss: 0.0657 - acc: 0.9793 - val_loss: 0.0641 - val_acc: 0.9796\n",
      "Epoch 5/10\n",
      "60000/60000 [==============================] - 50s 840us/step - loss: 0.0594 - acc: 0.9816 - val_loss: 0.0599 - val_acc: 0.9811\n",
      "Epoch 6/10\n",
      "60000/60000 [==============================] - 50s 831us/step - loss: 0.0549 - acc: 0.9828 - val_loss: 0.0498 - val_acc: 0.9851\n",
      "Epoch 7/10\n",
      "60000/60000 [==============================] - 52s 862us/step - loss: 0.0512 - acc: 0.9838 - val_loss: 0.0494 - val_acc: 0.9850\n",
      "Epoch 8/10\n",
      "60000/60000 [==============================] - 50s 839us/step - loss: 0.0477 - acc: 0.9851 - val_loss: 0.0544 - val_acc: 0.9829\n",
      "Epoch 9/10\n",
      "60000/60000 [==============================] - 51s 852us/step - loss: 0.0455 - acc: 0.9859 - val_loss: 0.0473 - val_acc: 0.9853\n",
      "Epoch 10/10\n",
      "60000/60000 [==============================] - 51s 853us/step - loss: 0.0430 - acc: 0.9866 - val_loss: 0.0435 - val_acc: 0.9866\n"
     ]
    }
   ],
   "source": [
    "model_1 = model.fit(x_train, y_train, \n",
    "                    batch_size=100, \n",
    "                    epochs=10, \n",
    "                    verbose=1,\n",
    "                    validation_data =(x_test,y_test))"
   ]
  },
  {
   "cell_type": "code",
   "execution_count": 115,
   "metadata": {},
   "outputs": [
    {
     "name": "stdout",
     "output_type": "stream",
     "text": [
      "10000/10000 [==============================] - 3s 324us/step\n",
      "loss: 0.043450975292676594\n",
      "正確率 0.9866\n"
     ]
    },
    {
     "data": {
      "image/png": "[encoded data removed]",
      "text/plain": [
       "<Figure size 432x288 with 1 Axes>"
      ]
     },
     "metadata": {
      "needs_background": "light"
     },
     "output_type": "display_data"
    }
   ],
   "source": [
    "plt.plot(model_1.history[\"acc\"])\n",
    "plt.title(\"training accuracy\")\n",
    "plt.ylabel(\"accuracy\")\n",
    "plt.ylabel(\"epoch\") #訓練次數\n",
    "score = model.evaluate(x_test, y_test)\n",
    "print('loss:', score[0])\n",
    "print('正確率', score[1])"
   ]
  }
 ],
 "metadata": {
  "kernelspec": {
   "display_name": "Python 3",
   "language": "python",
   "name": "python3"
  },
  "language_info": {
   "codemirror_mode": {
    "name": "ipython",
    "version": 3
   },
   "file_extension": ".py",
   "mimetype": "text/x-python",
   "name": "python",
   "nbconvert_exporter": "python",
   "pygments_lexer": "ipython3",
   "version": "3.6.8"
  }
 },
 "nbformat": 4,
 "nbformat_minor": 2
}
