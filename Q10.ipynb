{
 "cells": [
  {
   "cell_type": "markdown",
   "metadata": {},
   "source": [
    "#### Activation 使用常用Relu，\n",
    "#### loss function 使用 binary_crossentropy，\n",
    "#### optimizer 改用 Adadelta，\n",
    "#### 上限改至 200字\n",
    "#### 接dense層 以relu輸出\n",
    "####  將 10000 維的文字壓到 16 維\n",
    "#### 使用 8 個神經元\n",
    "#### epochs 跑了 3+2次後\n",
    "#### 即有約87%的正確率\n"
   ]
  },
  {
   "cell_type": "code",
   "execution_count": 1,
   "metadata": {},
   "outputs": [
    {
     "name": "stdout",
     "output_type": "stream",
     "text": [
      "env: KERAS_BACKEND=tensorflow\n"
     ]
    },
    {
     "name": "stderr",
     "output_type": "stream",
     "text": [
      "Using TensorFlow backend.\n"
     ]
    }
   ],
   "source": [
    "%matplotlib inline\n",
    "%env KERAS_BACKEND = tensorflow  \n",
    "##確保一致性\n",
    "import numpy as np\n",
    "import matplotlib.pyplot as plt\n",
    "from keras.datasets import imdb    #IMDB 電影數據庫\n",
    "from keras.preprocessing import sequence   #拉長度\n",
    "from keras.models import Sequential #神經網路相關套件  標準\n",
    "from keras.layers import Dense, Activation, Flatten, Embedding #flatten為拉平\n",
    "from keras.layers import Dense\n",
    "from keras.layers import LSTM\n",
    "from keras.optimizers import SGD    #隨機調整\n",
    "from keras.optimizers import Adam\n",
    "from keras.optimizers import Adadelta\n",
    "from keras.layers import concatenate, add  # 用來介接分歧的模型"
   ]
  },
  {
   "cell_type": "markdown",
   "metadata": {},
   "source": [
    "資料處理"
   ]
  },
  {
   "cell_type": "code",
   "execution_count": 53,
   "metadata": {
    "scrolled": true
   },
   "outputs": [
    {
     "name": "stdout",
     "output_type": "stream",
     "text": [
      "218, 189, 141, 550, 147, 43, 123, 562, 233, 130, "
     ]
    }
   ],
   "source": [
    "w = 10000  #考慮多少字 \n",
    "l = 200   #上限多少字\n",
    "(x_train, y_train), (x_test, y_test) = imdb.load_data(num_words=w)   #載入資料  \n",
    "for i in range(10):\n",
    "    print(len(x_train[i]), end=', ')    #出現頻率越高 數字越小"
   ]
  },
  {
   "cell_type": "code",
   "execution_count": 54,
   "metadata": {},
   "outputs": [
    {
     "data": {
      "text/plain": [
       "array([1, 0, 0, 1, 0, 0, 1, 0, 1, 0], dtype=int64)"
      ]
     },
     "execution_count": 54,
     "metadata": {},
     "output_type": "execute_result"
    }
   ],
   "source": [
    "y_train[:10]  #看前 10 筆"
   ]
  },
  {
   "cell_type": "code",
   "execution_count": 55,
   "metadata": {},
   "outputs": [
    {
     "data": {
      "text/plain": [
       "(25000, 200)"
      ]
     },
     "execution_count": 55,
     "metadata": {},
     "output_type": "execute_result"
    }
   ],
   "source": [
    "#資料處理\n",
    "x_train = sequence.pad_sequences(x_train, maxlen=l)  #拉長度\n",
    "x_test = sequence.pad_sequences(x_test, maxlen=l)\n",
    "x_train.shape"
   ]
  },
  {
   "cell_type": "code",
   "execution_count": 61,
   "metadata": {},
   "outputs": [],
   "source": [
    "N = 16  # 將 w 維的文字壓到 N 維\n",
    "K = 8  # K個神經元\n",
    "\n",
    "model = Sequential() #模型建立\n",
    "model.add(Embedding(w, N))\n",
    "model.add(LSTM(K)) #LSTM 層 有K個 LSTM Cells\n",
    "model.add(Dense(1, activation='relu')) #以1層relu輸出"
   ]
  },
  {
   "cell_type": "code",
   "execution_count": 62,
   "metadata": {},
   "outputs": [],
   "source": [
    "model.compile(loss=\"binary_crossentropy\",  \n",
    "              optimizer=Adadelta(),  #optimizer 替換成Adadelta\n",
    "              metrics=['accuracy'])"
   ]
  },
  {
   "cell_type": "code",
   "execution_count": 63,
   "metadata": {},
   "outputs": [
    {
     "name": "stdout",
     "output_type": "stream",
     "text": [
      "_________________________________________________________________\n",
      "Layer (type)                 Output Shape              Param #   \n",
      "=================================================================\n",
      "embedding_8 (Embedding)      (None, None, 16)          160000    \n",
      "_________________________________________________________________\n",
      "lstm_8 (LSTM)                (None, 8)                 800       \n",
      "_________________________________________________________________\n",
      "dense_8 (Dense)              (None, 1)                 9         \n",
      "=================================================================\n",
      "Total params: 160,809\n",
      "Trainable params: 160,809\n",
      "Non-trainable params: 0\n",
      "_________________________________________________________________\n"
     ]
    }
   ],
   "source": [
    "model.summary()"
   ]
  },
  {
   "cell_type": "code",
   "execution_count": 66,
   "metadata": {},
   "outputs": [
    {
     "name": "stdout",
     "output_type": "stream",
     "text": [
      "Epoch 1/2\n",
      "25000/25000 [==============================] - 94s 4ms/step - loss: 0.3147 - acc: 0.9026\n",
      "Epoch 2/2\n",
      "25000/25000 [==============================] - 93s 4ms/step - loss: 0.2851 - acc: 0.9112\n"
     ]
    }
   ],
   "source": [
    "model_1 = model.fit(x_train, y_train, \n",
    "                   batch_size=32, \n",
    "                   epochs= 2)"
   ]
  },
  {
   "cell_type": "code",
   "execution_count": 67,
   "metadata": {},
   "outputs": [
    {
     "name": "stdout",
     "output_type": "stream",
     "text": [
      "25000/25000 [==============================] - 10s 406us/step\n",
      "測試資料的 loss: 0.4029643619728088\n",
      "測試資料正確率: 0.87052\n"
     ]
    },
    {
     "data": {
      "image/png": "[encoded data removed]",
      "text/plain": [
       "<Figure size 432x288 with 1 Axes>"
      ]
     },
     "metadata": {
      "needs_background": "light"
     },
     "output_type": "display_data"
    }
   ],
   "source": [
    "plt.plot(model_1.history[\"acc\"])\n",
    "plt.title(\"training accuracy\")\n",
    "plt.ylabel(\"accuracy\")\n",
    "plt.ylabel(\"epoch\") #訓練次數\n",
    "score = model.evaluate(x_test, y_test)\n",
    "print('測試資料的 loss:', score[0])\n",
    "print('測試資料正確率:', score[1])"
   ]
  }
 ],
 "metadata": {
  "kernelspec": {
   "display_name": "Python 3",
   "language": "python",
   "name": "python3"
  },
  "language_info": {
   "codemirror_mode": {
    "name": "ipython",
    "version": 3
   },
   "file_extension": ".py",
   "mimetype": "text/x-python",
   "name": "python",
   "nbconvert_exporter": "python",
   "pygments_lexer": "ipython3",
   "version": "3.6.8"
  }
 },
 "nbformat": 4,
 "nbformat_minor": 2
}
