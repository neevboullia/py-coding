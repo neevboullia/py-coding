{
 "cells": [
  {
   "cell_type": "code",
   "execution_count": 2,
   "metadata": {},
   "outputs": [],
   "source": [
    "import numpy as np\n",
    "import matplotlib.pyplot as plt\n",
    "from ipywidgets import interact;"
   ]
  },
  {
   "cell_type": "code",
   "execution_count": 3,
   "metadata": {},
   "outputs": [
    {
     "data": {
      "text/plain": [
       "Text(0.5, 1.0, 'loss function')"
      ]
     },
     "execution_count": 3,
     "metadata": {},
     "output_type": "execute_result"
    },
    {
     "data": {
      "image/png": "[encoded data removed]",
      "text/plain": [
       "<Figure size 432x288 with 1 Axes>"
      ]
     },
     "metadata": {
      "needs_background": "light"
     },
     "output_type": "display_data"
    }
   ],
   "source": [
    "x = np.linspace(0,6,1000)\n",
    "y = (x-1)*(x-2)*(x-3)*(x-5) \n",
    "# y = x^4 - 11x^3 + 41x^2 - 61x + 30\n",
    "# y' = 4x^3 -33x^2 + 82x -61\n",
    "plt.plot(x,y)\n",
    "plt.xlabel('X')\n",
    "plt.ylabel('Y')\n",
    "plt.ylim(-10,10)\n",
    "plt.title('loss function')"
   ]
  },
  {
   "cell_type": "markdown",
   "metadata": {},
   "source": [
    "#### 設計一函數能決定起始點origin，以及改變的速率learning_rate"
   ]
  },
  {
   "cell_type": "code",
   "execution_count": 4,
   "metadata": {},
   "outputs": [],
   "source": [
    "def loss_fun(origin = 3,learning_rate = 0.1):   \n",
    "    k = 0\n",
    "    t = origin  #起始點\n",
    "    x = np.linspace(0,6,1000)\n",
    "    y = (x-1)*(x-2)*(x-3)*(x-5) \n",
    "    plt.plot(x,y)\n",
    "    plt.xlabel('X')\n",
    "    plt.ylabel('Y')\n",
    "    plt.ylim(-10,10)\n",
    "    plt.title('loss function')\n",
    "    while True:\n",
    "        k+=1\n",
    "        move = learning_rate / k  #移動逐漸減少\n",
    "        slope = 4*t**3 -33*t**2 + 82*t -61   #一次微分 : 斜率\n",
    "        y = (t-1)*(t-2)*(t-3)*(t-5) \n",
    "\n",
    "        plt.scatter(t,y)\n",
    "        t -= slope*move   #以斜率大小當作移動的多寡\n",
    "        \n",
    "        if abs(slope) < 0.01:   #當斜率趨近於零時停止\n",
    "            print(\"end \")\n",
    "            y = (t-1)*(t-2)*(t-3)*(t-5) \n",
    "            plt.scatter(t,y)\n",
    "            break"
   ]
  },
  {
   "cell_type": "code",
   "execution_count": 5,
   "metadata": {},
   "outputs": [
    {
     "data": {
      "application/vnd.jupyter.widget-view+json": {
       "model_id": "0027d9dc73744853963ad5c27c1b0058",
       "version_major": 2,
       "version_minor": 0
      },
      "text/plain": [
       "interactive(children=(FloatSlider(value=3.0, description='origin', max=6.0), FloatSlider(value=0.1, descriptio…"
      ]
     },
     "metadata": {},
     "output_type": "display_data"
    },
    {
     "data": {
      "text/plain": [
       "<function __main__.loss_fun(origin=3, learning_rate=0.1)>"
      ]
     },
     "execution_count": 5,
     "metadata": {},
     "output_type": "execute_result"
    }
   ],
   "source": [
    "interact(loss_fun, origin=(0, 6.),learning_rate = (0.09,0.39))"
   ]
  },
  {
   "cell_type": "markdown",
   "metadata": {},
   "source": [
    "結果發現，當learning_rate設定的不好會有異常狀況，\n",
    "\n",
    "learning_rate太小 : 無法達到最小值\n",
    "\n",
    "learning_rate太大 : 變動的值會越過local maximum，而導致找到另一個local minimum"
   ]
  }
 ],
 "metadata": {
  "kernelspec": {
   "display_name": "Python 3",
   "language": "python",
   "name": "python3"
  }
 },
 "nbformat": 4,
 "nbformat_minor": 2
}
