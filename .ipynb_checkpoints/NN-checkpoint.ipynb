{
 "cells": [
  {
   "cell_type": "markdown",
   "metadata": {},
   "source": [
    "#### Activation 使用常用Relu，此例效果明顯比sigmoid好\n",
    "#### loss function 因為是多分類問題，使用 categorical_crossentropy\n",
    "#### optimizer  使用常用的 Adam\n",
    "#### hidden layer 發現一味增多神經元個數似乎沒有幫助\n",
    "#### 因此選擇 第一層 30個 第二層20個\n",
    "#### 即有接近95%的正確率"
   ]
  },
  {
   "cell_type": "code",
   "execution_count": 1,
   "metadata": {},
   "outputs": [
    {
     "name": "stderr",
     "output_type": "stream",
     "text": [
      "Using TensorFlow backend.\n"
     ]
    }
   ],
   "source": [
    "%matplotlib inline\n",
    "import numpy as np\n",
    "import matplotlib.pyplot as plt\n",
    "from keras.datasets import mnist    #資料\n",
    "from keras.utils import np_utils    #轉為分類問題\n",
    "from keras.utils import to_categorical \n",
    "from keras.models import Sequential #神經網路相關套件  標準\n",
    "from keras.layers import Dense, Activation\n",
    "from keras.optimizers import SGD    #隨機調整\n",
    "from keras.optimizers import Adam\n",
    "from ipywidgets import interact_manual"
   ]
  },
  {
   "cell_type": "code",
   "execution_count": 2,
   "metadata": {},
   "outputs": [],
   "source": [
    "(x_train, y_train), (x_test, y_test) = mnist.load_data()   #載入資料"
   ]
  },
  {
   "cell_type": "code",
   "execution_count": 3,
   "metadata": {},
   "outputs": [
    {
     "data": {
      "text/plain": [
       "(28, 28)"
      ]
     },
     "execution_count": 3,
     "metadata": {},
     "output_type": "execute_result"
    }
   ],
   "source": [
    "X = x_train[99]  #檢查檔案\n",
    "X.shape"
   ]
  },
  {
   "cell_type": "code",
   "execution_count": 4,
   "metadata": {},
   "outputs": [
    {
     "name": "stdout",
     "output_type": "stream",
     "text": [
      "1\n"
     ]
    },
    {
     "data": {
      "image/png": "[encoded data removed]",
      "text/plain": [
       "<Figure size 432x288 with 1 Axes>"
      ]
     },
     "metadata": {
      "needs_background": "light"
     },
     "output_type": "display_data"
    }
   ],
   "source": [
    "plt.imshow(X, cmap = 'Greys')  #檢查label 是否正確\n",
    "print(y_train[99])"
   ]
  },
  {
   "cell_type": "code",
   "execution_count": 5,
   "metadata": {},
   "outputs": [
    {
     "data": {
      "text/plain": [
       "array([0., 1., 0., 0., 0., 0., 0., 0., 0., 0.], dtype=float32)"
      ]
     },
     "execution_count": 5,
     "metadata": {},
     "output_type": "execute_result"
    }
   ],
   "source": [
    "x_train = x_train.reshape(60000, 784)   #調整成神經網路的輸入格式\n",
    "x_test = x_test.reshape(10000, 784)\n",
    "y_train = np_utils.to_categorical(y_train, 10)   #轉為分類問題\n",
    "y_test = np_utils.to_categorical(y_test, 10)\n",
    "y_train[99]   #檢查"
   ]
  },
  {
   "cell_type": "markdown",
   "metadata": {},
   "source": [
    "建立模型"
   ]
  },
  {
   "cell_type": "code",
   "execution_count": 6,
   "metadata": {},
   "outputs": [
    {
     "name": "stdout",
     "output_type": "stream",
     "text": [
      "WARNING:tensorflow:From C:\\Users\\user\\Anaconda3\\lib\\site-packages\\tensorflow\\python\\framework\\op_def_library.py:263: colocate_with (from tensorflow.python.framework.ops) is deprecated and will be removed in a future version.\n",
      "Instructions for updating:\n",
      "Colocations handled automatically by placer.\n",
      "_________________________________________________________________\n",
      "Layer (type)                 Output Shape              Param #   \n",
      "=================================================================\n",
      "dense_1 (Dense)              (None, 30)                23550     \n",
      "_________________________________________________________________\n",
      "activation_1 (Activation)    (None, 30)                0         \n",
      "_________________________________________________________________\n",
      "dense_2 (Dense)              (None, 20)                620       \n",
      "_________________________________________________________________\n",
      "activation_2 (Activation)    (None, 20)                0         \n",
      "_________________________________________________________________\n",
      "dense_3 (Dense)              (None, 10)                210       \n",
      "_________________________________________________________________\n",
      "activation_3 (Activation)    (None, 10)                0         \n",
      "=================================================================\n",
      "Total params: 24,380\n",
      "Trainable params: 24,380\n",
      "Non-trainable params: 0\n",
      "_________________________________________________________________\n"
     ]
    }
   ],
   "source": [
    "L1 = 30  #第一層\n",
    "L2 = 20  #第二層\n",
    "model = Sequential()\n",
    "model.add(Dense(L1, input_dim=784)) \n",
    "model.add(Activation('relu'))        #選擇常用的relu    #測試後relu結果較好\n",
    "model.add(Dense(L2))                 \n",
    "model.add(Activation('relu'))\n",
    "model.add(Dense(10))             #output 分類的 10維\n",
    "model.add(Activation('softmax'))\n",
    "model.compile(loss='categorical_crossentropy',   #多分類問題使用categorical_crossentropy\n",
    "              optimizer=Adam(lr=0.001), metrics=[\"accuracy\"])  #選擇常用optimizer Adam\n",
    "model.summary()"
   ]
  },
  {
   "cell_type": "code",
   "execution_count": 7,
   "metadata": {},
   "outputs": [
    {
     "name": "stdout",
     "output_type": "stream",
     "text": [
      "第一層: 23550\n",
      "第二層: 620\n",
      "第二層: 210\n"
     ]
    }
   ],
   "source": [
    "#檢查\n",
    "print(\"第一層:\",784*L1+L1)\n",
    "print(\"第二層:\",L1*L2+L2)\n",
    "print(\"第二層:\",L2*10+10)"
   ]
  },
  {
   "cell_type": "markdown",
   "metadata": {},
   "source": [
    "開始訓練"
   ]
  },
  {
   "cell_type": "code",
   "execution_count": 8,
   "metadata": {},
   "outputs": [
    {
     "name": "stdout",
     "output_type": "stream",
     "text": [
      "WARNING:tensorflow:From C:\\Users\\user\\Anaconda3\\lib\\site-packages\\tensorflow\\python\\ops\\math_ops.py:3066: to_int32 (from tensorflow.python.ops.math_ops) is deprecated and will be removed in a future version.\n",
      "Instructions for updating:\n",
      "Use tf.cast instead.\n",
      "Train on 60000 samples, validate on 10000 samples\n",
      "Epoch 1/15\n",
      "60000/60000 [==============================] - 5s 79us/step - loss: 6.9664 - acc: 0.5528 - val_loss: 4.3305 - val_acc: 0.7196\n",
      "Epoch 2/15\n",
      "60000/60000 [==============================] - 3s 57us/step - loss: 3.5805 - acc: 0.7621 - val_loss: 1.5632 - val_acc: 0.8860\n",
      "Epoch 3/15\n",
      "60000/60000 [==============================] - 4s 59us/step - loss: 1.2905 - acc: 0.9036 - val_loss: 1.1147 - val_acc: 0.9172\n",
      "Epoch 4/15\n",
      "60000/60000 [==============================] - 3s 57us/step - loss: 1.0175 - acc: 0.9234 - val_loss: 1.0041 - val_acc: 0.9259\n",
      "Epoch 5/15\n",
      "60000/60000 [==============================] - 4s 59us/step - loss: 0.9046 - acc: 0.9316 - val_loss: 0.8637 - val_acc: 0.9347\n",
      "Epoch 6/15\n",
      "60000/60000 [==============================] - 3s 55us/step - loss: 0.7990 - acc: 0.9392 - val_loss: 0.7903 - val_acc: 0.9404\n",
      "Epoch 7/15\n",
      "60000/60000 [==============================] - 3s 57us/step - loss: 0.7511 - acc: 0.9429 - val_loss: 0.9414 - val_acc: 0.9288\n",
      "Epoch 8/15\n",
      "60000/60000 [==============================] - 3s 56us/step - loss: 0.6954 - acc: 0.9463 - val_loss: 0.8829 - val_acc: 0.9357\n",
      "Epoch 9/15\n",
      "60000/60000 [==============================] - 3s 58us/step - loss: 0.6535 - acc: 0.9494 - val_loss: 0.7312 - val_acc: 0.9420\n",
      "Epoch 10/15\n",
      "60000/60000 [==============================] - 4s 59us/step - loss: 0.6007 - acc: 0.9521 - val_loss: 0.6664 - val_acc: 0.9479\n",
      "Epoch 11/15\n",
      "60000/60000 [==============================] - 3s 56us/step - loss: 0.5823 - acc: 0.9542 - val_loss: 0.6848 - val_acc: 0.9469\n",
      "Epoch 12/15\n",
      "60000/60000 [==============================] - 4s 60us/step - loss: 0.5602 - acc: 0.9549 - val_loss: 0.6315 - val_acc: 0.9496\n",
      "Epoch 13/15\n",
      "60000/60000 [==============================] - 3s 57us/step - loss: 0.5359 - acc: 0.9568 - val_loss: 0.5888 - val_acc: 0.9537\n",
      "Epoch 14/15\n",
      "60000/60000 [==============================] - 4s 65us/step - loss: 0.5139 - acc: 0.9576 - val_loss: 0.6514 - val_acc: 0.9478\n",
      "Epoch 15/15\n",
      "60000/60000 [==============================] - 3s 57us/step - loss: 0.4823 - acc: 0.9590 - val_loss: 0.5557 - val_acc: 0.9552\n"
     ]
    }
   ],
   "source": [
    "model_1 = model.fit(x_train, y_train, \n",
    "                    batch_size=100, epochs=15, verbose=1,\n",
    "                    validation_data =(x_test,y_test))"
   ]
  },
  {
   "cell_type": "code",
   "execution_count": 9,
   "metadata": {},
   "outputs": [
    {
     "name": "stdout",
     "output_type": "stream",
     "text": [
      "10000/10000 [==============================] - 1s 56us/step\n",
      "loss: 0.5556801431593744\n",
      "正確率 0.9552\n"
     ]
    },
    {
     "data": {
      "image/png": "[encoded data removed]",
      "text/plain": [
       "<Figure size 432x288 with 1 Axes>"
      ]
     },
     "metadata": {
      "needs_background": "light"
     },
     "output_type": "display_data"
    }
   ],
   "source": [
    "plt.plot(model_1.history[\"acc\"])\n",
    "plt.title(\"training accuracy\")\n",
    "plt.ylabel(\"accuracy\")\n",
    "plt.ylabel(\"epoch\") #訓練次數\n",
    "score = model.evaluate(x_test, y_test)\n",
    "print('loss:', score[0])\n",
    "print('正確率', score[1])"
   ]
  },
  {
   "cell_type": "code",
   "execution_count": 10,
   "metadata": {},
   "outputs": [
    {
     "data": {
      "application/vnd.jupyter.widget-view+json": {
       "model_id": "79b27aa71a3d462b9b09f51ada04e90d",
       "version_major": 2,
       "version_minor": 0
      },
      "text/plain": [
       "interactive(children=(IntSlider(value=4999, description='num', max=9999), Button(description='Run Interact', s…"
      ]
     },
     "metadata": {},
     "output_type": "display_data"
    },
    {
     "data": {
      "text/plain": [
       "<function __main__.sh(num)>"
      ]
     },
     "execution_count": 10,
     "metadata": {},
     "output_type": "execute_result"
    }
   ],
   "source": [
    "predict = model.predict_classes(x_test)\n",
    "def sh(num):\n",
    "    plt.imshow(x_test[num].reshape(28,28), cmap='Greys')\n",
    "    print('神經網路判斷結果為:', predict[num])\n",
    "interact_manual(sh, num=(0, 9999))"
   ]
  },
  {
   "cell_type": "code",
   "execution_count": 11,
   "metadata": {},
   "outputs": [],
   "source": [
    "model_json = model.to_json()     #儲存參數\n",
    "open('stupid_model.json', 'w').write(model_json)\n",
    "model.save_weights('stupid_model_weights.h5')"
   ]
  }
 ],
 "metadata": {
  "kernelspec": {
   "display_name": "Python 3",
   "language": "python",
   "name": "python3"
  },
  "language_info": {
   "codemirror_mode": {
    "name": "ipython",
    "version": 3
   },
   "file_extension": ".py",
   "mimetype": "text/x-python",
   "name": "python",
   "nbconvert_exporter": "python",
   "pygments_lexer": "ipython3",
   "version": "3.6.8"
  }
 },
 "nbformat": 4,
 "nbformat_minor": 2
}
