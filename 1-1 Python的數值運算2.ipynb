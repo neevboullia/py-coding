{
 "cells": [
  {
   "cell_type": "markdown",
   "metadata": {
    "colab_type": "text",
    "id": "bppGdL-CTFyU"
   },
   "source": [
    "\n",
    "#  1. numerical & print & input & import"
   ]
  },
  {
   "cell_type": "markdown",
   "metadata": {
    "colab_type": "text",
    "id": "_wRDKg80TFyY"
   },
   "source": [
    "### 總之先來點基本的加減乘除\n",
    "### 應該......，沒有問題吧"
   ]
  },
  {
   "cell_type": "code",
   "execution_count": 1,
   "metadata": {
    "colab": {
     "base_uri": "https://localhost:8080/",
     "height": 34
    },
    "colab_type": "code",
    "executionInfo": {
     "elapsed": 997,
     "status": "ok",
     "timestamp": 1552027873425,
     "user": {
      "displayName": "陳先灝",
      "photoUrl": "",
      "userId": "09664259430080442993"
     },
     "user_tz": -480
    },
    "id": "4NvHRpeyTFyc",
    "outputId": "6da66a4e-d4e2-44f1-97fc-cfbcfe75449a"
   },
   "outputs": [
    {
     "data": {
      "text/plain": [
       "(5, -1, 6, 0.6666666666666666)"
      ]
     },
     "execution_count": 1,
     "metadata": {
      "tags": []
     },
     "output_type": "execute_result"
    }
   ],
   "source": [
    "a = 2+3\n",
    "b = 2-3\n",
    "c = 2*3\n",
    "d = 2/3\n",
    "\n",
    "(a, b, c, d)"
   ]
  },
  {
   "cell_type": "markdown",
   "metadata": {
    "colab_type": "text",
    "id": "VBpf3ZrtTFyt"
   },
   "source": [
    "### 不過，這邊要注意的是變數的處理，\n",
    "### 口訣是：從右邊灌到左邊。\n",
    "\n",
    "### 還有我們Python是不用事先宣告變數的。"
   ]
  },
  {
   "cell_type": "code",
   "execution_count": 0,
   "metadata": {
    "colab": {},
    "colab_type": "code",
    "id": "8tHSuonPTFyw",
    "outputId": "5fe87a4c-3922-4063-c123-95ce71b58f3d"
   },
   "outputs": [
    {
     "data": {
      "text/plain": [
       "2"
      ]
     },
     "execution_count": 5,
     "metadata": {
      "tags": []
     },
     "output_type": "execute_result"
    }
   ],
   "source": [
    "# 來點不一樣的：同餘\n",
    "a = 2%3\n",
    "a"
   ]
  },
  {
   "cell_type": "code",
   "execution_count": 0,
   "metadata": {
    "colab": {},
    "colab_type": "code",
    "id": "bdVlm3owTFy6",
    "outputId": "2855af4b-8eb9-4974-a377-2af49bc15938"
   },
   "outputs": [
    {
     "data": {
      "text/plain": [
       "8"
      ]
     },
     "execution_count": 7,
     "metadata": {
      "tags": []
     },
     "output_type": "execute_result"
    }
   ],
   "source": [
    "# Python裡的指數是這樣表示的\n",
    "b = 2**3\n",
    "b"
   ]
  },
  {
   "cell_type": "markdown",
   "metadata": {
    "colab_type": "text",
    "id": "e7mDsb3TTFzH"
   },
   "source": [
    "關於print"
   ]
  },
  {
   "cell_type": "code",
   "execution_count": 0,
   "metadata": {
    "colab": {},
    "colab_type": "code",
    "id": "sMofWrsTTFzO",
    "outputId": "7a3c0c8d-fa40-4456-921b-6d8671b9ae85"
   },
   "outputs": [
    {
     "data": {
      "text/plain": [
       "2"
      ]
     },
     "execution_count": 8,
     "metadata": {
      "tags": []
     },
     "output_type": "execute_result"
    }
   ],
   "source": [
    "a%b"
   ]
  },
  {
   "cell_type": "code",
   "execution_count": 3,
   "metadata": {
    "colab": {
     "base_uri": "https://localhost:8080/",
     "height": 34
    },
    "colab_type": "code",
    "executionInfo": {
     "elapsed": 1562,
     "status": "ok",
     "timestamp": 1552027968603,
     "user": {
      "displayName": "陳先灝",
      "photoUrl": "",
      "userId": "09664259430080442993"
     },
     "user_tz": -480
    },
    "id": "AsDnrBh5TFzV",
    "outputId": "5bcb6e9f-9024-41f8-f45b-e63928564af8"
   },
   "outputs": [
    {
     "name": "stdout",
     "output_type": "stream",
     "text": [
      "-1 6 0.6666666666666666\n"
     ]
    }
   ],
   "source": [
    "print(b, c, d)"
   ]
  },
  {
   "cell_type": "markdown",
   "metadata": {
    "colab_type": "text",
    "id": "z6d0JtfSE6rX"
   },
   "source": []
  },
  {
   "cell_type": "code",
   "execution_count": 5,
   "metadata": {
    "colab": {
     "base_uri": "https://localhost:8080/",
     "height": 51
    },
    "colab_type": "code",
    "executionInfo": {
     "elapsed": 5507,
     "status": "ok",
     "timestamp": 1552028065915,
     "user": {
      "displayName": "陳先灝",
      "photoUrl": "",
      "userId": "09664259430080442993"
     },
     "user_tz": -480
    },
    "id": "YzTAg_tjE7MM",
    "outputId": "991619f9-9348-4efa-e913-75f72a212ba6"
   },
   "outputs": [
    {
     "name": "stdout",
     "output_type": "stream",
     "text": [
      "123\n",
      "123\n"
     ]
    }
   ],
   "source": [
    "a = input()\n",
    "print(a)"
   ]
  },
  {
   "cell_type": "code",
   "execution_count": 7,
   "metadata": {
    "colab": {
     "base_uri": "https://localhost:8080/",
     "height": 68
    },
    "colab_type": "code",
    "executionInfo": {
     "elapsed": 6456,
     "status": "ok",
     "timestamp": 1552028092074,
     "user": {
      "displayName": "陳先灝",
      "photoUrl": "",
      "userId": "09664259430080442993"
     },
     "user_tz": -480
    },
    "id": "dgTb0jbPTFzc",
    "outputId": "54c49fcc-adf3-4b87-e93e-866b0a0af4ed"
   },
   "outputs": [
    {
     "name": "stdout",
     "output_type": "stream",
     "text": [
      "a?   2\n",
      "b?   3\n",
      "5\n"
     ]
    }
   ],
   "source": [
    "a = int(input(\"a?   \"))\n",
    "b = int(input(\"b?   \"))\n",
    "\n",
    "print(a+b)"
   ]
  },
  {
   "cell_type": "code",
   "execution_count": 13,
   "metadata": {
    "colab": {
     "base_uri": "https://localhost:8080/",
     "height": 34
    },
    "colab_type": "code",
    "executionInfo": {
     "elapsed": 803,
     "status": "ok",
     "timestamp": 1552028583286,
     "user": {
      "displayName": "陳先灝",
      "photoUrl": "",
      "userId": "09664259430080442993"
     },
     "user_tz": -480
    },
    "id": "rYgn4-7kTFzi",
    "outputId": "de8effc2-8c2c-4beb-f830-4e072675e2c7"
   },
   "outputs": [
    {
     "data": {
      "text/plain": [
       "1.4142135623730951"
      ]
     },
     "execution_count": 13,
     "metadata": {
      "tags": []
     },
     "output_type": "execute_result"
    }
   ],
   "source": [
    "import math\n",
    "\n",
    "#函式庫是個圖書館\n",
    "math.sqrt(2)"
   ]
  },
  {
   "cell_type": "code",
   "execution_count": 0,
   "metadata": {
    "colab": {},
    "colab_type": "code",
    "id": "cWL8YqtBF4Ib"
   },
   "outputs": [],
   "source": [
    "import numpy as np"
   ]
  },
  {
   "cell_type": "markdown",
   "metadata": {
    "colab_type": "text",
    "id": "sHaVx-VlTFzo"
   },
   "source": [
    "# 例題一:\n",
    "\n",
    "請以python計算並印出 $ x^2 + 4x + 2 = 0 $ 的解。 "
   ]
  },
  {
   "cell_type": "code",
   "execution_count": 14,
   "metadata": {
    "colab": {
     "base_uri": "https://localhost:8080/",
     "height": 34
    },
    "colab_type": "code",
    "executionInfo": {
     "elapsed": 692,
     "status": "ok",
     "timestamp": 1552028586001,
     "user": {
      "displayName": "陳先灝",
      "photoUrl": "",
      "userId": "09664259430080442993"
     },
     "user_tz": -480
    },
    "id": "ffDWBoswTFzp",
    "outputId": "dbe57c39-2a1b-4e8b-d31f-6c716e71b974"
   },
   "outputs": [
    {
     "name": "stdout",
     "output_type": "stream",
     "text": [
      "-0.5857864376269049\n"
     ]
    }
   ],
   "source": [
    "x1 = (-4+math.sqrt(4**2-4*1*2))/2*1\n",
    "print(x1)"
   ]
  },
  {
   "cell_type": "code",
   "execution_count": 15,
   "metadata": {
    "colab": {
     "base_uri": "https://localhost:8080/",
     "height": 34
    },
    "colab_type": "code",
    "executionInfo": {
     "elapsed": 795,
     "status": "ok",
     "timestamp": 1552028597383,
     "user": {
      "displayName": "陳先灝",
      "photoUrl": "",
      "userId": "09664259430080442993"
     },
     "user_tz": -480
    },
    "id": "i8shkjoiHBPu",
    "outputId": "9caea2d5-c2bd-4037-a7fe-7737c854d885"
   },
   "outputs": [
    {
     "name": "stdout",
     "output_type": "stream",
     "text": [
      "-3.414213562373095\n"
     ]
    }
   ],
   "source": [
    "x2 = (-4-math.sqrt(4**2-4*1*2))/2*1\n",
    "print(x2)"
   ]
  },
  {
   "cell_type": "markdown",
   "metadata": {
    "colab_type": "text",
    "id": "HDODrNPwTFzu"
   },
   "source": [
    "# 2. List"
   ]
  },
  {
   "cell_type": "code",
   "execution_count": 0,
   "metadata": {
    "colab": {},
    "colab_type": "code",
    "id": "MItKyG3PTFzv"
   },
   "outputs": [],
   "source": [
    "l = [1, 2, 3]\n",
    "l2 = list((1, 2, 3))"
   ]
  },
  {
   "cell_type": "code",
   "execution_count": 19,
   "metadata": {
    "colab": {
     "base_uri": "https://localhost:8080/",
     "height": 34
    },
    "colab_type": "code",
    "executionInfo": {
     "elapsed": 698,
     "status": "ok",
     "timestamp": 1552028767160,
     "user": {
      "displayName": "陳先灝",
      "photoUrl": "",
      "userId": "09664259430080442993"
     },
     "user_tz": -480
    },
    "id": "H6q7SzG6TFzx",
    "outputId": "5971c43f-7e92-42be-85db-375f592f78a3"
   },
   "outputs": [
    {
     "data": {
      "text/plain": [
       "3"
      ]
     },
     "execution_count": 19,
     "metadata": {
      "tags": []
     },
     "output_type": "execute_result"
    }
   ],
   "source": [
    "l[2]"
   ]
  },
  {
   "cell_type": "markdown",
   "metadata": {
    "colab_type": "text",
    "id": "60IjJQzSTFz0"
   },
   "source": [
    "## 其實，學資工的人都很喜歡零號......。"
   ]
  },
  {
   "cell_type": "code",
   "execution_count": 0,
   "metadata": {
    "colab": {},
    "colab_type": "code",
    "id": "T6gz8hTYTFz0"
   },
   "outputs": [],
   "source": [
    "l1 = [1, 2, 3]\n",
    "l2 = [4, 5, 6]"
   ]
  },
  {
   "cell_type": "code",
   "execution_count": 0,
   "metadata": {
    "colab": {},
    "colab_type": "code",
    "id": "BbKPjPKzTFz2",
    "outputId": "db25a28c-b374-49ce-eaf4-a842be25636c"
   },
   "outputs": [
    {
     "data": {
      "text/plain": [
       "[1, 2, 3, 4, 5, 6]"
      ]
     },
     "execution_count": 6,
     "metadata": {
      "tags": []
     },
     "output_type": "execute_result"
    }
   ],
   "source": [
    "l3 = l1+l2\n",
    "l3"
   ]
  },
  {
   "cell_type": "markdown",
   "metadata": {
    "colab_type": "text",
    "id": "RGfL-2JATFz7"
   },
   "source": [
    "### 一些高（懶）級（惰）的用法"
   ]
  },
  {
   "cell_type": "code",
   "execution_count": 0,
   "metadata": {
    "colab": {},
    "colab_type": "code",
    "id": "yDvdMyaKTFz8",
    "outputId": "3d559d84-7d21-417a-b2b1-27a3c2ad6e1b"
   },
   "outputs": [
    {
     "data": {
      "text/plain": [
       "[3, 4]"
      ]
     },
     "execution_count": 10,
     "metadata": {
      "tags": []
     },
     "output_type": "execute_result"
    }
   ],
   "source": [
    "l3[2:4]"
   ]
  },
  {
   "cell_type": "code",
   "execution_count": 0,
   "metadata": {
    "colab": {},
    "colab_type": "code",
    "id": "3s2mnla8TFz_",
    "outputId": "0a7e4ba5-a0f6-4b8e-dcb9-440739cfd493"
   },
   "outputs": [
    {
     "data": {
      "text/plain": [
       "[6, 5, 4, 3, 2, 1]"
      ]
     },
     "execution_count": 8,
     "metadata": {
      "tags": []
     },
     "output_type": "execute_result"
    }
   ],
   "source": [
    "l3[::-1]"
   ]
  },
  {
   "cell_type": "markdown",
   "metadata": {
    "colab_type": "text",
    "id": "BqsMfuVOTF0E"
   },
   "source": [
    "# 例題二:\n",
    "請讓使用者input三個數字，並印出此三數分別而成的list，和三數結合而成的list。\n",
    "最後再印出三數合成的list之中的第二個數。"
   ]
  },
  {
   "cell_type": "code",
   "execution_count": 11,
   "metadata": {
    "colab": {},
    "colab_type": "code",
    "id": "lobtlkS_TF0E",
    "outputId": "03e36ffb-7724-4a36-e89a-0fef0b248e63"
   },
   "outputs": [
    {
     "name": "stdout",
     "output_type": "stream",
     "text": [
      "54\n",
      "87\n",
      "88\n",
      "[54, 87, 88]\n",
      "87\n"
     ]
    }
   ],
   "source": [
    "import numpy as np\n",
    "\n",
    "a = int(input())\n",
    "b = int(input())\n",
    "c = int(input())\n",
    "d = [a,b,c]\n",
    "print(d)\n",
    "print(d[1])\n"
   ]
  },
  {
   "cell_type": "code",
   "execution_count": 0,
   "metadata": {
    "colab": {},
    "colab_type": "code",
    "id": "8uPwrDuHTF0H",
    "outputId": "4ceb7002-8db5-4be7-9897-614d432efe7b"
   },
   "outputs": [
    {
     "name": "stdout",
     "output_type": "stream",
     "text": [
      "2\n",
      "3\n",
      "4\n",
      "5\n",
      "6\n",
      "7\n",
      "8\n",
      "9\n"
     ]
    }
   ],
   "source": [
    "for i in range(2, 10):\n",
    "    print(i)"
   ]
  },
  {
   "cell_type": "code",
   "execution_count": 0,
   "metadata": {
    "colab": {},
    "colab_type": "code",
    "id": "itGYGQkdTF0L",
    "outputId": "3d2b0d41-abd0-4ea8-8178-9eeb08a123a0"
   },
   "outputs": [
    {
     "data": {
      "text/plain": [
       "array([3, 7, 9])"
      ]
     },
     "execution_count": 22,
     "metadata": {
      "tags": []
     },
     "output_type": "execute_result"
    }
   ],
   "source": [
    "a = np.array([1, 3, 3])\n",
    "b = np.array([2, 4, 6])\n",
    "\n",
    "a+b"
   ]
  },
  {
   "cell_type": "markdown",
   "metadata": {
    "colab_type": "text",
    "id": "Smvp7yWDTF0O"
   },
   "source": [
    "\n",
    "# 3. if"
   ]
  },
  {
   "cell_type": "code",
   "execution_count": 0,
   "metadata": {
    "colab": {},
    "colab_type": "code",
    "id": "8KzqZz0jTF0O",
    "outputId": "676d71c2-3324-4375-bbc9-6923b5914f69"
   },
   "outputs": [
    {
     "name": "stdout",
     "output_type": "stream",
     "text": [
      "請輸入你上次的考試成績:  78\n",
      "你及格了。\n",
      "成績輸入完畢。\n"
     ]
    }
   ],
   "source": [
    "score = int(input(\"請輸入你上次的考試成績:  \"))\n",
    "\n",
    "#括弧很重要\n",
    "if (score >= 60) and (score <= 100):\n",
    "    print(\"你及格了。\")\n",
    "\n",
    "elif score < 60:\n",
    "     print(\"你被當了。\")\n",
    "    \n",
    "else:\n",
    "    print(\"我書讀不多，你別騙我。\")\n",
    "\n",
    "print(\"成績輸入完畢。\")"
   ]
  },
  {
   "cell_type": "markdown",
   "metadata": {
    "colab_type": "text",
    "id": "3Q9PYD1iPuY7"
   },
   "source": []
  },
  {
   "cell_type": "code",
   "execution_count": 0,
   "metadata": {
    "colab": {},
    "colab_type": "code",
    "id": "bXPKyl2rPvIu"
   },
   "outputs": [],
   "source": [
    "if 1 >2:\n",
    "  print(\"yes\")\n",
    "elif 3<3:\n",
    "  print(\"NO\")\n",
    "else:\n",
    "  pass"
   ]
  },
  {
   "cell_type": "markdown",
   "metadata": {
    "colab_type": "text",
    "id": "-WElEw8bTF0R"
   },
   "source": [
    "### 關於縮排，我想說的其實是......。"
   ]
  },
  {
   "cell_type": "markdown",
   "metadata": {
    "colab_type": "text",
    "id": "yc07g6uLTF0S"
   },
   "source": [
    "# 例題三:\n",
    "\n",
    "Lotus正在修高等微積分。而老師的成績計算有兩種方案，擇優作為期末成績:\n",
    "\n",
    "1. 小考20%，期中考35%，期末考45%\n",
    "2. 期中考40%，期末考60%。\n",
    "\n",
    "請讓使用者依序輸入自身的小考、期中考、期末考成績，\n",
    "並輸出他的期末分數。"
   ]
  },
  {
   "cell_type": "code",
   "execution_count": 14,
   "metadata": {},
   "outputs": [
    {
     "name": "stdout",
     "output_type": "stream",
     "text": [
      "88\n",
      "90\n",
      "45\n",
      "69.35\n"
     ]
    }
   ],
   "source": [
    "l = int(input())\n",
    "m = int(input())\n",
    "f = int(input())\n",
    "\n",
    "a = l*0.2 + m * 0.35 + f*0.45\n",
    "b = m*0.4+ f*0.6\n",
    "\n",
    "if a > b:\n",
    "    print(a)\n",
    "else:\n",
    "    print(b)"
   ]
  },
  {
   "cell_type": "markdown",
   "metadata": {
    "colab_type": "text",
    "id": "kRDy__PqTF0T"
   },
   "source": [
    "# 4. for:"
   ]
  },
  {
   "cell_type": "code",
   "execution_count": 26,
   "metadata": {
    "colab": {
     "base_uri": "https://localhost:8080/",
     "height": 34
    },
    "colab_type": "code",
    "executionInfo": {
     "elapsed": 854,
     "status": "ok",
     "timestamp": 1552030967209,
     "user": {
      "displayName": "陳先灝",
      "photoUrl": "",
      "userId": "09664259430080442993"
     },
     "user_tz": -480
    },
    "id": "nRgP5n4hTF0U",
    "outputId": "b9f04e26-bde8-4046-8527-48c273c446cc"
   },
   "outputs": [
    {
     "name": "stdout",
     "output_type": "stream",
     "text": [
      "range(0, 10)\n"
     ]
    }
   ],
   "source": [
    "print(range(10))"
   ]
  },
  {
   "cell_type": "markdown",
   "metadata": {
    "colab_type": "text",
    "id": "CvWl9DZfTF0Y"
   },
   "source": [
    "\n",
    "\n",
    "\n",
    "# 提醒我下次碰到要講進階的“list comprehension”，速度快很多"
   ]
  },
  {
   "cell_type": "markdown",
   "metadata": {
    "colab_type": "text",
    "id": "USFg4ZbkTF0a"
   },
   "source": [
    "# 例題四:\n",
    "請讓使用者輸入一個數字，並輸出該數字的階乘。"
   ]
  },
  {
   "cell_type": "code",
   "execution_count": 28,
   "metadata": {
    "colab": {},
    "colab_type": "code",
    "id": "W6J15XCzTF0b"
   },
   "outputs": [
    {
     "name": "stdout",
     "output_type": "stream",
     "text": [
      "5\n",
      "120\n"
     ]
    }
   ],
   "source": [
    "k=1\n",
    "for i in range(1,int(input())+1):\n",
    "    k = k*i\n",
    "print(k)"
   ]
  },
  {
   "cell_type": "code",
   "execution_count": 24,
   "metadata": {
    "colab": {},
    "colab_type": "code",
    "id": "OL7tmKloTF0d"
   },
   "outputs": [
    {
     "name": "stdout",
     "output_type": "stream",
     "text": [
      "11\n"
     ]
    },
    {
     "data": {
      "text/plain": [
       "[1, 2, 3, 4, 5, 6, 7, 8, 9, 10]"
      ]
     },
     "execution_count": 24,
     "metadata": {},
     "output_type": "execute_result"
    }
   ],
   "source": [
    "list(range(1,int(input())))"
   ]
  },
  {
   "cell_type": "markdown",
   "metadata": {
    "colab_type": "text",
    "id": "RNFPQK7kTF0e"
   },
   "source": [
    "# 5. 函式定義與巢狀迴圈:\n"
   ]
  },
  {
   "cell_type": "code",
   "execution_count": 0,
   "metadata": {
    "colab": {},
    "colab_type": "code",
    "id": "XhljxjWTTF0e"
   },
   "outputs": [],
   "source": [
    "def add(a, b):\n",
    "    return a+b\n",
    "\n",
    "def root(a, b, c):\n",
    "    return a+b+c"
   ]
  },
  {
   "cell_type": "code",
   "execution_count": 0,
   "metadata": {
    "colab": {},
    "colab_type": "code",
    "id": "G8_8Xt3mTF0f",
    "outputId": "6ba9f9ab-721c-4959-f515-75cc2382d87b"
   },
   "outputs": [
    {
     "name": "stdout",
     "output_type": "stream",
     "text": [
      "1\n",
      "2\n",
      "3\n",
      "6\n"
     ]
    }
   ],
   "source": [
    "z = int(input())\n",
    "y = int(input())\n",
    "x = int(input())\n",
    "\n",
    "d = root(x, y, z)\n",
    "print(d)"
   ]
  },
  {
   "cell_type": "code",
   "execution_count": 0,
   "metadata": {
    "colab": {},
    "colab_type": "code",
    "id": "iURxKQwZTF0i",
    "outputId": "3814e8e8-f3fd-41ce-beb8-5855fc62fe0b"
   },
   "outputs": [
    {
     "data": {
      "text/plain": [
       "3"
      ]
     },
     "execution_count": 32,
     "metadata": {
      "tags": []
     },
     "output_type": "execute_result"
    }
   ],
   "source": [
    "c"
   ]
  },
  {
   "cell_type": "markdown",
   "metadata": {
    "colab_type": "text",
    "id": "aG41P8C6TF0l"
   },
   "source": [
    "# 例題五:\n",
    "請完成下列函式，並使其回傳方程式 $ ax^2+bx+c = 0$的解。\n",
    "\n",
    "附註:\n",
    "1. 有兩解時回傳解，並整理成一個list。\n",
    "2. 恰有一解時回傳一解，並整理成一個list。\n",
    "3. 無解時回傳0，並印出:「無解！」\n"
   ]
  },
  {
   "cell_type": "code",
   "execution_count": 0,
   "metadata": {
    "colab": {},
    "colab_type": "code",
    "id": "MlaQDq5cTF0l"
   },
   "outputs": [],
   "source": [
    "def root(a, b, c):\n",
    "    #請把你的程式碼寫在下面\n",
    "    \n",
    "    "
   ]
  },
  {
   "cell_type": "code",
   "execution_count": 0,
   "metadata": {
    "colab": {},
    "colab_type": "code",
    "id": "2JAPM-anTF0n"
   },
   "outputs": [],
   "source": [
    "a = root(1, 3, 2)\n",
    "b = root(1, 4, 4)\n",
    "c = root(1, 19, 1)"
   ]
  },
  {
   "cell_type": "code",
   "execution_count": 0,
   "metadata": {
    "colab": {},
    "colab_type": "code",
    "id": "hoh9_juNTF0o",
    "outputId": "0b55a0c9-95c5-41e0-d315-24b57b9cdf99"
   },
   "outputs": [
    {
     "name": "stdout",
     "output_type": "stream",
     "text": [
      "1  *  1  =  1\n",
      "1  *  2  =  2\n",
      "1  *  3  =  3\n",
      "1  *  4  =  4\n",
      "1  *  5  =  5\n",
      "1  *  6  =  6\n",
      "1  *  7  =  7\n",
      "1  *  8  =  8\n",
      "1  *  9  =  9\n",
      "2  *  1  =  2\n",
      "2  *  2  =  4\n",
      "2  *  3  =  6\n",
      "2  *  4  =  8\n",
      "2  *  5  =  10\n",
      "2  *  6  =  12\n",
      "2  *  7  =  14\n",
      "2  *  8  =  16\n",
      "2  *  9  =  18\n",
      "3  *  1  =  3\n",
      "3  *  2  =  6\n",
      "3  *  3  =  9\n",
      "3  *  4  =  12\n",
      "3  *  5  =  15\n",
      "3  *  6  =  18\n",
      "3  *  7  =  21\n",
      "3  *  8  =  24\n",
      "3  *  9  =  27\n",
      "4  *  1  =  4\n",
      "4  *  2  =  8\n",
      "4  *  3  =  12\n",
      "4  *  4  =  16\n",
      "4  *  5  =  20\n",
      "4  *  6  =  24\n",
      "4  *  7  =  28\n",
      "4  *  8  =  32\n",
      "4  *  9  =  36\n",
      "5  *  1  =  5\n",
      "5  *  2  =  10\n",
      "5  *  3  =  15\n",
      "5  *  4  =  20\n",
      "5  *  5  =  25\n",
      "5  *  6  =  30\n",
      "5  *  7  =  35\n",
      "5  *  8  =  40\n",
      "5  *  9  =  45\n",
      "6  *  1  =  6\n",
      "6  *  2  =  12\n",
      "6  *  3  =  18\n",
      "6  *  4  =  24\n",
      "6  *  5  =  30\n",
      "6  *  6  =  36\n",
      "6  *  7  =  42\n",
      "6  *  8  =  48\n",
      "6  *  9  =  54\n",
      "7  *  1  =  7\n",
      "7  *  2  =  14\n",
      "7  *  3  =  21\n",
      "7  *  4  =  28\n",
      "7  *  5  =  35\n",
      "7  *  6  =  42\n",
      "7  *  7  =  49\n",
      "7  *  8  =  56\n",
      "7  *  9  =  63\n",
      "8  *  1  =  8\n",
      "8  *  2  =  16\n",
      "8  *  3  =  24\n",
      "8  *  4  =  32\n",
      "8  *  5  =  40\n",
      "8  *  6  =  48\n",
      "8  *  7  =  56\n",
      "8  *  8  =  64\n",
      "8  *  9  =  72\n",
      "9  *  1  =  9\n",
      "9  *  2  =  18\n",
      "9  *  3  =  27\n",
      "9  *  4  =  36\n",
      "9  *  5  =  45\n",
      "9  *  6  =  54\n",
      "9  *  7  =  63\n",
      "9  *  8  =  72\n",
      "9  *  9  =  81\n"
     ]
    }
   ],
   "source": [
    "for i in range(1, 10):\n",
    "    for j in range(1, 10):\n",
    "        print(i, \" * \", j, \" = \", i*j)"
   ]
  },
  {
   "cell_type": "markdown",
   "metadata": {
    "colab_type": "text",
    "id": "KzS8QqBdTF0q"
   },
   "source": [
    "# 例題六\n",
    "請定義一個函式，使其在接收輸入n之後，印出一個n層的金字塔。"
   ]
  },
  {
   "cell_type": "code",
   "execution_count": 38,
   "metadata": {},
   "outputs": [
    {
     "name": "stdout",
     "output_type": "stream",
     "text": [
      "10\n",
      "[1]\n",
      "[2, 2]\n",
      "[3, 3, 3]\n",
      "[4, 4, 4, 4]\n",
      "[5, 5, 5, 5, 5]\n",
      "[6, 6, 6, 6, 6, 6]\n",
      "[7, 7, 7, 7, 7, 7, 7]\n",
      "[8, 8, 8, 8, 8, 8, 8, 8]\n",
      "[9, 9, 9, 9, 9, 9, 9, 9, 9]\n",
      "[10, 10, 10, 10, 10, 10, 10, 10, 10, 10]\n"
     ]
    }
   ],
   "source": [
    "for i in range(1,int(input())+1):\n",
    "    a=[i]\n",
    "    print(a*i)"
   ]
  },
  {
   "cell_type": "markdown",
   "metadata": {
    "colab_type": "text",
    "id": "1UzmNEwJTF0r"
   },
   "source": [
    "# 6. numpy "
   ]
  },
  {
   "cell_type": "code",
   "execution_count": 0,
   "metadata": {
    "colab": {},
    "colab_type": "code",
    "id": "uXUfEHRhTF0r"
   },
   "outputs": [],
   "source": [
    "import numpy as np"
   ]
  },
  {
   "cell_type": "code",
   "execution_count": 0,
   "metadata": {
    "colab": {},
    "colab_type": "code",
    "id": "KMCpYtv9TF0s"
   },
   "outputs": [],
   "source": [
    "a = np.array([1, 2, 3])\n",
    "b = np.array([4, 5, 6])"
   ]
  },
  {
   "cell_type": "code",
   "execution_count": 0,
   "metadata": {
    "colab": {},
    "colab_type": "code",
    "id": "Tc4qWvZeTF0t",
    "outputId": "6d5368e6-72e4-4c9d-863c-dfe792e7bc9d"
   },
   "outputs": [
    {
     "data": {
      "text/plain": [
       "array([5, 7, 9])"
      ]
     },
     "execution_count": 3,
     "metadata": {
      "tags": []
     },
     "output_type": "execute_result"
    }
   ],
   "source": [
    "a+b"
   ]
  },
  {
   "cell_type": "code",
   "execution_count": 0,
   "metadata": {
    "colab": {},
    "colab_type": "code",
    "id": "pUqdxBtDTF0v",
    "outputId": "816292dc-f57a-42ac-9091-166fce6e94ae"
   },
   "outputs": [
    {
     "data": {
      "text/plain": [
       "array([ 4, 10, 18])"
      ]
     },
     "execution_count": 4,
     "metadata": {
      "tags": []
     },
     "output_type": "execute_result"
    }
   ],
   "source": [
    "a*b"
   ]
  },
  {
   "cell_type": "code",
   "execution_count": 0,
   "metadata": {
    "colab": {},
    "colab_type": "code",
    "id": "rAOgLx9LTF0x",
    "outputId": "c1dcce3f-72b8-4c57-9195-82816a74fb2e"
   },
   "outputs": [
    {
     "data": {
      "text/plain": [
       "array([[136,  53, 169, ...,  18, 126,  64],\n",
       "       [160, 164, 131, ...,  11, 120, 131],\n",
       "       [134, 126,  97, ..., 132,  20,  58],\n",
       "       ..., \n",
       "       [  7, 138,  93, ..., 144,  75, 153],\n",
       "       [208, 251, 113, ...,  26,  86, 234],\n",
       "       [ 95, 241, 251, ...,  47,  76, 222]])"
      ]
     },
     "execution_count": 5,
     "metadata": {
      "tags": []
     },
     "output_type": "execute_result"
    }
   ],
   "source": [
    "np.random.randint(0, 256, size=(256, 256))"
   ]
  },
  {
   "cell_type": "code",
   "execution_count": 0,
   "metadata": {
    "colab": {},
    "colab_type": "code",
    "id": "-ZkJ4U_nTF00"
   },
   "outputs": [],
   "source": []
  }
 ],
 "metadata": {
  "colab": {
   "name": "1-1 Python的數值運算.ipynb",
   "provenance": [],
   "version": "0.3.2"
  },
  "kernelspec": {
   "display_name": "Python 3",
   "language": "python",
   "name": "python3"
  },
  "language_info": {
   "codemirror_mode": {
    "name": "ipython",
    "version": 3
   },
   "file_extension": ".py",
   "mimetype": "text/x-python",
   "name": "python",
   "nbconvert_exporter": "python",
   "pygments_lexer": "ipython3",
   "version": "3.6.8"
  }
 },
 "nbformat": 4,
 "nbformat_minor": 1
}
